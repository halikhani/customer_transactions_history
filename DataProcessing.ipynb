{
 "cells": [
  {
   "cell_type": "code",
   "execution_count": 1,
   "metadata": {},
   "outputs": [],
   "source": [
    "import numpy as np\n",
    "import pandas as pd\n",
    "import sklearn\n",
    "import matplotlib\n",
    "import matplotlib.pyplot as plt\n",
    "plt.style.use('fivethirtyeight')\n",
    "matplotlib.rc('axes', titlesize=12)\n",
    "matplotlib.rcParams['axes.labelsize'] = 12\n",
    "matplotlib.rcParams['xtick.labelsize'] = 12\n",
    "matplotlib.rcParams['ytick.labelsize'] = 12\n",
    "matplotlib.rcParams['text.color'] = 'k'"
   ]
  },
  {
   "cell_type": "markdown",
   "metadata": {},
   "source": [
    "### 0- Loading the Data"
   ]
  },
  {
   "cell_type": "code",
   "execution_count": 2,
   "metadata": {},
   "outputs": [],
   "source": [
    "transactions1 = pd.read_csv(\"transactions_1.csv\", index_col='Unnamed: 0')\n",
    "transactions2 = pd.read_csv(\"transactions_2.csv\", index_col='Unnamed: 0')\n",
    "transactions = pd.concat([transactions1, transactions2])"
   ]
  },
  {
   "cell_type": "code",
   "execution_count": 3,
   "metadata": {},
   "outputs": [
    {
     "data": {
      "text/html": [
       "<div>\n",
       "<style scoped>\n",
       "    .dataframe tbody tr th:only-of-type {\n",
       "        vertical-align: middle;\n",
       "    }\n",
       "\n",
       "    .dataframe tbody tr th {\n",
       "        vertical-align: top;\n",
       "    }\n",
       "\n",
       "    .dataframe thead th {\n",
       "        text-align: right;\n",
       "    }\n",
       "</style>\n",
       "<table border=\"1\" class=\"dataframe\">\n",
       "  <thead>\n",
       "    <tr style=\"text-align: right;\">\n",
       "      <th></th>\n",
       "      <th>customer_id</th>\n",
       "      <th>product_id</th>\n",
       "      <th>date</th>\n",
       "    </tr>\n",
       "  </thead>\n",
       "  <tbody>\n",
       "    <tr>\n",
       "      <th>0</th>\n",
       "      <td>6689489</td>\n",
       "      <td>0A4G5LZWCP</td>\n",
       "      <td>2017-01-31T09:31:08.873Z</td>\n",
       "    </tr>\n",
       "    <tr>\n",
       "      <th>1</th>\n",
       "      <td>6689489</td>\n",
       "      <td>XZ6UVEYK40</td>\n",
       "      <td>2017-02-03T16:59:16.610Z</td>\n",
       "    </tr>\n",
       "    <tr>\n",
       "      <th>2</th>\n",
       "      <td>6689489</td>\n",
       "      <td>XZ6UVEYK40</td>\n",
       "      <td>2017-02-05T19:47:55.353Z</td>\n",
       "    </tr>\n",
       "    <tr>\n",
       "      <th>3</th>\n",
       "      <td>6689489</td>\n",
       "      <td>XZ6UVEYK40</td>\n",
       "      <td>2017-02-05T19:48:14.633Z</td>\n",
       "    </tr>\n",
       "    <tr>\n",
       "      <th>4</th>\n",
       "      <td>6689489</td>\n",
       "      <td>XZ6UVEYK40</td>\n",
       "      <td>2017-02-06T09:59:49.053Z</td>\n",
       "    </tr>\n",
       "    <tr>\n",
       "      <th>...</th>\n",
       "      <td>...</td>\n",
       "      <td>...</td>\n",
       "      <td>...</td>\n",
       "    </tr>\n",
       "    <tr>\n",
       "      <th>975950</th>\n",
       "      <td>9770266</td>\n",
       "      <td>5RPSDK28JR</td>\n",
       "      <td>2019-05-17T10:06:43.037Z</td>\n",
       "    </tr>\n",
       "    <tr>\n",
       "      <th>975951</th>\n",
       "      <td>2552305</td>\n",
       "      <td>5RPSDK28JR</td>\n",
       "      <td>2017-10-27T17:49:54.483Z</td>\n",
       "    </tr>\n",
       "    <tr>\n",
       "      <th>975952</th>\n",
       "      <td>6004163</td>\n",
       "      <td>I2IYFZIO6X</td>\n",
       "      <td>2019-01-09T16:31:08.133Z</td>\n",
       "    </tr>\n",
       "    <tr>\n",
       "      <th>975953</th>\n",
       "      <td>6632569</td>\n",
       "      <td>0A4G5LZWCP</td>\n",
       "      <td>2017-03-29T16:25:05.907Z</td>\n",
       "    </tr>\n",
       "    <tr>\n",
       "      <th>975954</th>\n",
       "      <td>9277279</td>\n",
       "      <td>5RPSDK28JR</td>\n",
       "      <td>2020-03-16T22:39:59.247Z</td>\n",
       "    </tr>\n",
       "  </tbody>\n",
       "</table>\n",
       "<p>975955 rows × 3 columns</p>\n",
       "</div>"
      ],
      "text/plain": [
       "        customer_id  product_id                      date\n",
       "0           6689489  0A4G5LZWCP  2017-01-31T09:31:08.873Z\n",
       "1           6689489  XZ6UVEYK40  2017-02-03T16:59:16.610Z\n",
       "2           6689489  XZ6UVEYK40  2017-02-05T19:47:55.353Z\n",
       "3           6689489  XZ6UVEYK40  2017-02-05T19:48:14.633Z\n",
       "4           6689489  XZ6UVEYK40  2017-02-06T09:59:49.053Z\n",
       "...             ...         ...                       ...\n",
       "975950      9770266  5RPSDK28JR  2019-05-17T10:06:43.037Z\n",
       "975951      2552305  5RPSDK28JR  2017-10-27T17:49:54.483Z\n",
       "975952      6004163  I2IYFZIO6X  2019-01-09T16:31:08.133Z\n",
       "975953      6632569  0A4G5LZWCP  2017-03-29T16:25:05.907Z\n",
       "975954      9277279  5RPSDK28JR  2020-03-16T22:39:59.247Z\n",
       "\n",
       "[975955 rows x 3 columns]"
      ]
     },
     "execution_count": 3,
     "metadata": {},
     "output_type": "execute_result"
    }
   ],
   "source": [
    "transactions"
   ]
  },
  {
   "cell_type": "markdown",
   "metadata": {},
   "source": [
    "#### 0-1 Extracting year and month from the date column"
   ]
  },
  {
   "cell_type": "code",
   "execution_count": 4,
   "metadata": {},
   "outputs": [
    {
     "data": {
      "text/html": [
       "<div>\n",
       "<style scoped>\n",
       "    .dataframe tbody tr th:only-of-type {\n",
       "        vertical-align: middle;\n",
       "    }\n",
       "\n",
       "    .dataframe tbody tr th {\n",
       "        vertical-align: top;\n",
       "    }\n",
       "\n",
       "    .dataframe thead th {\n",
       "        text-align: right;\n",
       "    }\n",
       "</style>\n",
       "<table border=\"1\" class=\"dataframe\">\n",
       "  <thead>\n",
       "    <tr style=\"text-align: right;\">\n",
       "      <th></th>\n",
       "      <th>customer_id</th>\n",
       "      <th>product_id</th>\n",
       "      <th>date</th>\n",
       "      <th>year</th>\n",
       "      <th>month</th>\n",
       "    </tr>\n",
       "  </thead>\n",
       "  <tbody>\n",
       "    <tr>\n",
       "      <th>0</th>\n",
       "      <td>6689489</td>\n",
       "      <td>0A4G5LZWCP</td>\n",
       "      <td>2017-01-31T09:31:08.873Z</td>\n",
       "      <td>2017</td>\n",
       "      <td>1</td>\n",
       "    </tr>\n",
       "    <tr>\n",
       "      <th>1</th>\n",
       "      <td>6689489</td>\n",
       "      <td>XZ6UVEYK40</td>\n",
       "      <td>2017-02-03T16:59:16.610Z</td>\n",
       "      <td>2017</td>\n",
       "      <td>2</td>\n",
       "    </tr>\n",
       "    <tr>\n",
       "      <th>2</th>\n",
       "      <td>6689489</td>\n",
       "      <td>XZ6UVEYK40</td>\n",
       "      <td>2017-02-05T19:47:55.353Z</td>\n",
       "      <td>2017</td>\n",
       "      <td>2</td>\n",
       "    </tr>\n",
       "    <tr>\n",
       "      <th>3</th>\n",
       "      <td>6689489</td>\n",
       "      <td>XZ6UVEYK40</td>\n",
       "      <td>2017-02-05T19:48:14.633Z</td>\n",
       "      <td>2017</td>\n",
       "      <td>2</td>\n",
       "    </tr>\n",
       "    <tr>\n",
       "      <th>4</th>\n",
       "      <td>6689489</td>\n",
       "      <td>XZ6UVEYK40</td>\n",
       "      <td>2017-02-06T09:59:49.053Z</td>\n",
       "      <td>2017</td>\n",
       "      <td>2</td>\n",
       "    </tr>\n",
       "    <tr>\n",
       "      <th>...</th>\n",
       "      <td>...</td>\n",
       "      <td>...</td>\n",
       "      <td>...</td>\n",
       "      <td>...</td>\n",
       "      <td>...</td>\n",
       "    </tr>\n",
       "    <tr>\n",
       "      <th>975950</th>\n",
       "      <td>9770266</td>\n",
       "      <td>5RPSDK28JR</td>\n",
       "      <td>2019-05-17T10:06:43.037Z</td>\n",
       "      <td>2019</td>\n",
       "      <td>5</td>\n",
       "    </tr>\n",
       "    <tr>\n",
       "      <th>975951</th>\n",
       "      <td>2552305</td>\n",
       "      <td>5RPSDK28JR</td>\n",
       "      <td>2017-10-27T17:49:54.483Z</td>\n",
       "      <td>2017</td>\n",
       "      <td>10</td>\n",
       "    </tr>\n",
       "    <tr>\n",
       "      <th>975952</th>\n",
       "      <td>6004163</td>\n",
       "      <td>I2IYFZIO6X</td>\n",
       "      <td>2019-01-09T16:31:08.133Z</td>\n",
       "      <td>2019</td>\n",
       "      <td>1</td>\n",
       "    </tr>\n",
       "    <tr>\n",
       "      <th>975953</th>\n",
       "      <td>6632569</td>\n",
       "      <td>0A4G5LZWCP</td>\n",
       "      <td>2017-03-29T16:25:05.907Z</td>\n",
       "      <td>2017</td>\n",
       "      <td>3</td>\n",
       "    </tr>\n",
       "    <tr>\n",
       "      <th>975954</th>\n",
       "      <td>9277279</td>\n",
       "      <td>5RPSDK28JR</td>\n",
       "      <td>2020-03-16T22:39:59.247Z</td>\n",
       "      <td>2020</td>\n",
       "      <td>3</td>\n",
       "    </tr>\n",
       "  </tbody>\n",
       "</table>\n",
       "<p>975955 rows × 5 columns</p>\n",
       "</div>"
      ],
      "text/plain": [
       "        customer_id  product_id                      date  year  month\n",
       "0           6689489  0A4G5LZWCP  2017-01-31T09:31:08.873Z  2017      1\n",
       "1           6689489  XZ6UVEYK40  2017-02-03T16:59:16.610Z  2017      2\n",
       "2           6689489  XZ6UVEYK40  2017-02-05T19:47:55.353Z  2017      2\n",
       "3           6689489  XZ6UVEYK40  2017-02-05T19:48:14.633Z  2017      2\n",
       "4           6689489  XZ6UVEYK40  2017-02-06T09:59:49.053Z  2017      2\n",
       "...             ...         ...                       ...   ...    ...\n",
       "975950      9770266  5RPSDK28JR  2019-05-17T10:06:43.037Z  2019      5\n",
       "975951      2552305  5RPSDK28JR  2017-10-27T17:49:54.483Z  2017     10\n",
       "975952      6004163  I2IYFZIO6X  2019-01-09T16:31:08.133Z  2019      1\n",
       "975953      6632569  0A4G5LZWCP  2017-03-29T16:25:05.907Z  2017      3\n",
       "975954      9277279  5RPSDK28JR  2020-03-16T22:39:59.247Z  2020      3\n",
       "\n",
       "[975955 rows x 5 columns]"
      ]
     },
     "execution_count": 4,
     "metadata": {},
     "output_type": "execute_result"
    }
   ],
   "source": [
    "transactions['year'] = pd.DatetimeIndex(transactions['date']).year\n",
    "transactions['month'] = pd.DatetimeIndex(transactions['date']).month\n",
    "transactions"
   ]
  },
  {
   "cell_type": "markdown",
   "metadata": {},
   "source": [
    "### 2- Basic Questions\n",
    "### 2-1 Create an ordered (descending) plot for the total number of transactions per customer from the most to the least active customer."
   ]
  },
  {
   "cell_type": "code",
   "execution_count": 5,
   "metadata": {},
   "outputs": [
    {
     "data": {
      "text/plain": [
       "customer_id\n",
       "6689489    34963\n",
       "5381109    33355\n",
       "1756454    18927\n",
       "4435859    13450\n",
       "8350659    10490\n",
       "           ...  \n",
       "8964627        1\n",
       "7695751        1\n",
       "4877229        1\n",
       "7742978        1\n",
       "1646090        1\n",
       "Length: 2002, dtype: int64"
      ]
     },
     "execution_count": 5,
     "metadata": {},
     "output_type": "execute_result"
    }
   ],
   "source": [
    "transaction_per_customer = transactions.groupby('customer_id').size()\n",
    "sorted_trans_per_customer = transaction_per_customer.sort_values(ascending=False)\n",
    "sorted_trans_per_customer"
   ]
  },
  {
   "cell_type": "code",
   "execution_count": 6,
   "metadata": {},
   "outputs": [
    {
     "data": {
      "text/plain": [
       "Text(0.5, 1.0, 'sorted number of transactions per customer')"
      ]
     },
     "execution_count": 6,
     "metadata": {},
     "output_type": "execute_result"
    },
    {
     "data": {
      "image/png": "[encoded data removed]",
      "text/plain": [
       "<Figure size 432x288 with 1 Axes>"
      ]
     },
     "metadata": {},
     "output_type": "display_data"
    }
   ],
   "source": [
    "x = sorted_trans_per_customer.reset_index(drop=True)\n",
    "plt.plot(x)\n",
    "plt.title('sorted number of transactions per customer')"
   ]
  },
  {
   "cell_type": "markdown",
   "metadata": {},
   "source": [
    "#### 1-2 Given any product ID, create a plot to show its transaction frequency per month for the year 2018."
   ]
  },
  {
   "cell_type": "code",
   "execution_count": 7,
   "metadata": {},
   "outputs": [],
   "source": [
    "def plot_trans_perMonth(productID, year):\n",
    "    year_filtered_df = transactions[transactions['year'] == year]\n",
    "    monthly_bill = year_filtered_df.groupby(['product_id', 'month']).size()\n",
    "    plt.plot(monthly_bill[productID])\n",
    "    plt.xlabel('month')\n",
    "    plt.ylabel('# of transactions') \n",
    "    plt.title('monthly trancations of '+ productID + ' in ' + str(year))"
   ]
  },
  {
   "cell_type": "code",
   "execution_count": 8,
   "metadata": {},
   "outputs": [
    {
     "data": {
      "image/png": "[encoded data removed]",
      "text/plain": [
       "<Figure size 432x288 with 1 Axes>"
      ]
     },
     "metadata": {},
     "output_type": "display_data"
    }
   ],
   "source": [
    "plot_trans_perMonth('ZWL2RHU5YP', 2018)"
   ]
  },
  {
   "cell_type": "markdown",
   "metadata": {},
   "source": [
    "### 3- At any time, what are the top 5 products that drove the highest sales over the last six months?"
   ]
  },
  {
   "cell_type": "code",
   "execution_count": 9,
   "metadata": {},
   "outputs": [],
   "source": [
    "def get_last_n_month_highest_sale(n, current_year, current_month):\n",
    "    tmp_transactions = transactions.copy()\n",
    "    \n",
    "    min_year = tmp_transactions['year'].min()\n",
    "    # create a column of 'number of passed months until now to ease the calculations of past n month transaction history'\n",
    "    tmp_transactions['acc_month'] = (tmp_transactions['year'] - min_year)*12 + tmp_transactions['month']\n",
    "    current_acc_month = (current_year - min_year)*12 + current_month\n",
    "    min_acc_month = (current_year - min_year)*12 + current_month - n + 1\n",
    "    \n",
    "    filtered = tmp_transactions[(tmp_transactions['acc_month'] >= min_acc_month)&(tmp_transactions['acc_month']<= current_acc_month)]\n",
    "    return filtered.groupby('product_id').size().sort_values(ascending=False).head(5)"
   ]
  },
  {
   "cell_type": "code",
   "execution_count": 10,
   "metadata": {},
   "outputs": [
    {
     "data": {
      "text/plain": [
       "product_id\n",
       "5RPSDK28JR    21745\n",
       "XZ6UVEYK40    10423\n",
       "VD51ZQPY9D    10204\n",
       "XD4I34ED7F     9585\n",
       "G5HEPH9A2T     9267\n",
       "dtype: int64"
      ]
     },
     "execution_count": 10,
     "metadata": {},
     "output_type": "execute_result"
    }
   ],
   "source": [
    "get_last_n_month_highest_sale(6, 2019, 8)"
   ]
  },
  {
   "cell_type": "markdown",
   "metadata": {},
   "source": [
    "### 4- Build a model to predict the total number of expected transactions over the next month for any customer. Split your data appropriately and give enough validation for the performance of your model by simulating the predicted results and comparing with the true values or however you see fit. Keep in mind that sometimes a carefully crafted plot is worth a thousand words."
   ]
  },
  {
   "cell_type": "markdown",
   "metadata": {},
   "source": [
    "#### Obviously, this is a time series prediction ML problem (which is new to me), and we are dealing with the concept of time, so I search around the internet and found  these links ([1](https://towardsdatascience.com/time-series-machine-learning-regression-framework-9ea33929009a), [2](https://towardsdatascience.com/an-end-to-end-project-on-time-series-analysis-and-forecasting-with-python-4835e6bf050b), and [3](https://www.pluralsight.com/guides/machine-learning-for-time-series-data-in-python)) very helpful and used them to solve this problem."
   ]
  },
  {
   "cell_type": "markdown",
   "metadata": {},
   "source": [
    "#### 4-1. Create a proper dataframe which shows us the monthly transactions of each product"
   ]
  },
  {
   "cell_type": "code",
   "execution_count": 11,
   "metadata": {},
   "outputs": [],
   "source": [
    "def create_monthly_sale_df():\n",
    "    monthly_trans_df = transactions.copy()\n",
    "    min_year = monthly_trans_df['year'].min()\n",
    "    monthly_trans_df['acc_month'] = (monthly_trans_df['year'] - min_year)*12 + monthly_trans_df['month']\n",
    "    max_month = monthly_trans_df['acc_month'].max()\n",
    "    monthly_trans_df = monthly_trans_df.drop(columns=['date', 'year', 'month'])\n",
    "    monthly_trans_df = monthly_trans_df.groupby(['product_id', 'acc_month']).size().to_frame(name = 'count')\n",
    "    \n",
    "    monthly_trans_df = monthly_trans_df.pivot_table('count', 'product_id', 'acc_month').fillna(0)\n",
    "    monthly_trans_df = monthly_trans_df.reset_index().melt(id_vars='product_id', var_name='month', value_name='sales')\n",
    "    return monthly_trans_df\n",
    "    "
   ]
  },
  {
   "cell_type": "code",
   "execution_count": 12,
   "metadata": {},
   "outputs": [
    {
     "data": {
      "text/html": [
       "<div>\n",
       "<style scoped>\n",
       "    .dataframe tbody tr th:only-of-type {\n",
       "        vertical-align: middle;\n",
       "    }\n",
       "\n",
       "    .dataframe tbody tr th {\n",
       "        vertical-align: top;\n",
       "    }\n",
       "\n",
       "    .dataframe thead th {\n",
       "        text-align: right;\n",
       "    }\n",
       "</style>\n",
       "<table border=\"1\" class=\"dataframe\">\n",
       "  <thead>\n",
       "    <tr style=\"text-align: right;\">\n",
       "      <th></th>\n",
       "      <th>product_id</th>\n",
       "      <th>month</th>\n",
       "      <th>sales</th>\n",
       "    </tr>\n",
       "  </thead>\n",
       "  <tbody>\n",
       "    <tr>\n",
       "      <th>0</th>\n",
       "      <td>0A4G5LZWCP</td>\n",
       "      <td>1</td>\n",
       "      <td>844.0</td>\n",
       "    </tr>\n",
       "    <tr>\n",
       "      <th>1</th>\n",
       "      <td>0AB7PTAD3X</td>\n",
       "      <td>1</td>\n",
       "      <td>18.0</td>\n",
       "    </tr>\n",
       "    <tr>\n",
       "      <th>2</th>\n",
       "      <td>0HLIWH0CA1</td>\n",
       "      <td>1</td>\n",
       "      <td>691.0</td>\n",
       "    </tr>\n",
       "    <tr>\n",
       "      <th>3</th>\n",
       "      <td>0UZVWTQ50H</td>\n",
       "      <td>1</td>\n",
       "      <td>0.0</td>\n",
       "    </tr>\n",
       "    <tr>\n",
       "      <th>4</th>\n",
       "      <td>0W3289OYXV</td>\n",
       "      <td>1</td>\n",
       "      <td>38.0</td>\n",
       "    </tr>\n",
       "    <tr>\n",
       "      <th>...</th>\n",
       "      <td>...</td>\n",
       "      <td>...</td>\n",
       "      <td>...</td>\n",
       "    </tr>\n",
       "    <tr>\n",
       "      <th>1945</th>\n",
       "      <td>YRRT480XIZ</td>\n",
       "      <td>39</td>\n",
       "      <td>12.0</td>\n",
       "    </tr>\n",
       "    <tr>\n",
       "      <th>1946</th>\n",
       "      <td>Z4N23EOA13</td>\n",
       "      <td>39</td>\n",
       "      <td>235.0</td>\n",
       "    </tr>\n",
       "    <tr>\n",
       "      <th>1947</th>\n",
       "      <td>Z6OHD7VB3J</td>\n",
       "      <td>39</td>\n",
       "      <td>0.0</td>\n",
       "    </tr>\n",
       "    <tr>\n",
       "      <th>1948</th>\n",
       "      <td>ZH8YQX1ZL2</td>\n",
       "      <td>39</td>\n",
       "      <td>0.0</td>\n",
       "    </tr>\n",
       "    <tr>\n",
       "      <th>1949</th>\n",
       "      <td>ZWL2RHU5YP</td>\n",
       "      <td>39</td>\n",
       "      <td>124.0</td>\n",
       "    </tr>\n",
       "  </tbody>\n",
       "</table>\n",
       "<p>1950 rows × 3 columns</p>\n",
       "</div>"
      ],
      "text/plain": [
       "      product_id month  sales\n",
       "0     0A4G5LZWCP     1  844.0\n",
       "1     0AB7PTAD3X     1   18.0\n",
       "2     0HLIWH0CA1     1  691.0\n",
       "3     0UZVWTQ50H     1    0.0\n",
       "4     0W3289OYXV     1   38.0\n",
       "...          ...   ...    ...\n",
       "1945  YRRT480XIZ    39   12.0\n",
       "1946  Z4N23EOA13    39  235.0\n",
       "1947  Z6OHD7VB3J    39    0.0\n",
       "1948  ZH8YQX1ZL2    39    0.0\n",
       "1949  ZWL2RHU5YP    39  124.0\n",
       "\n",
       "[1950 rows x 3 columns]"
      ]
     },
     "execution_count": 12,
     "metadata": {},
     "output_type": "execute_result"
    }
   ],
   "source": [
    "monthly_trans = create_monthly_sale_df()\n",
    "monthly_trans"
   ]
  },
  {
   "cell_type": "markdown",
   "metadata": {},
   "source": [
    "#### 4-2 map product_id to an integer and keep the mapping in a dictionary for recovering"
   ]
  },
  {
   "cell_type": "code",
   "execution_count": 13,
   "metadata": {},
   "outputs": [
    {
     "data": {
      "text/html": [
       "<div>\n",
       "<style scoped>\n",
       "    .dataframe tbody tr th:only-of-type {\n",
       "        vertical-align: middle;\n",
       "    }\n",
       "\n",
       "    .dataframe tbody tr th {\n",
       "        vertical-align: top;\n",
       "    }\n",
       "\n",
       "    .dataframe thead th {\n",
       "        text-align: right;\n",
       "    }\n",
       "</style>\n",
       "<table border=\"1\" class=\"dataframe\">\n",
       "  <thead>\n",
       "    <tr style=\"text-align: right;\">\n",
       "      <th></th>\n",
       "      <th>id</th>\n",
       "      <th>month</th>\n",
       "      <th>sales</th>\n",
       "    </tr>\n",
       "  </thead>\n",
       "  <tbody>\n",
       "    <tr>\n",
       "      <th>0</th>\n",
       "      <td>1</td>\n",
       "      <td>0</td>\n",
       "      <td>844</td>\n",
       "    </tr>\n",
       "    <tr>\n",
       "      <th>1</th>\n",
       "      <td>2</td>\n",
       "      <td>0</td>\n",
       "      <td>18</td>\n",
       "    </tr>\n",
       "    <tr>\n",
       "      <th>2</th>\n",
       "      <td>3</td>\n",
       "      <td>0</td>\n",
       "      <td>691</td>\n",
       "    </tr>\n",
       "    <tr>\n",
       "      <th>3</th>\n",
       "      <td>4</td>\n",
       "      <td>0</td>\n",
       "      <td>0</td>\n",
       "    </tr>\n",
       "    <tr>\n",
       "      <th>4</th>\n",
       "      <td>5</td>\n",
       "      <td>0</td>\n",
       "      <td>38</td>\n",
       "    </tr>\n",
       "    <tr>\n",
       "      <th>...</th>\n",
       "      <td>...</td>\n",
       "      <td>...</td>\n",
       "      <td>...</td>\n",
       "    </tr>\n",
       "    <tr>\n",
       "      <th>1945</th>\n",
       "      <td>46</td>\n",
       "      <td>38</td>\n",
       "      <td>12</td>\n",
       "    </tr>\n",
       "    <tr>\n",
       "      <th>1946</th>\n",
       "      <td>47</td>\n",
       "      <td>38</td>\n",
       "      <td>235</td>\n",
       "    </tr>\n",
       "    <tr>\n",
       "      <th>1947</th>\n",
       "      <td>48</td>\n",
       "      <td>38</td>\n",
       "      <td>0</td>\n",
       "    </tr>\n",
       "    <tr>\n",
       "      <th>1948</th>\n",
       "      <td>49</td>\n",
       "      <td>38</td>\n",
       "      <td>0</td>\n",
       "    </tr>\n",
       "    <tr>\n",
       "      <th>1949</th>\n",
       "      <td>50</td>\n",
       "      <td>38</td>\n",
       "      <td>124</td>\n",
       "    </tr>\n",
       "  </tbody>\n",
       "</table>\n",
       "<p>1950 rows × 3 columns</p>\n",
       "</div>"
      ],
      "text/plain": [
       "      id  month  sales\n",
       "0      1      0    844\n",
       "1      2      0     18\n",
       "2      3      0    691\n",
       "3      4      0      0\n",
       "4      5      0     38\n",
       "...   ..    ...    ...\n",
       "1945  46     38     12\n",
       "1946  47     38    235\n",
       "1947  48     38      0\n",
       "1948  49     38      0\n",
       "1949  50     38    124\n",
       "\n",
       "[1950 rows x 3 columns]"
      ]
     },
     "execution_count": 13,
     "metadata": {},
     "output_type": "execute_result"
    }
   ],
   "source": [
    "monthly_trans['id'] = monthly_trans.index%50 \n",
    "monthly_trans['id'] = monthly_trans['id'] + 1\n",
    "monthly_trans['month'] = monthly_trans['month'] - 1\n",
    "product_id_mapping_dict = monthly_trans[['product_id', 'id']].to_dict('records')\n",
    "monthly_trans = monthly_trans[['id', 'month', 'sales']]\n",
    "monthly_trans = monthly_trans.astype('int')\n",
    "monthly_trans"
   ]
  },
  {
   "cell_type": "markdown",
   "metadata": {},
   "source": [
    "We can see a random product's monthy transactions over 39 months"
   ]
  },
  {
   "cell_type": "code",
   "execution_count": 14,
   "metadata": {},
   "outputs": [
    {
     "data": {
      "text/plain": [
       "[<matplotlib.lines.Line2D at 0x29835ffb320>]"
      ]
     },
     "execution_count": 14,
     "metadata": {},
     "output_type": "execute_result"
    },
    {
     "data": {
      "image/png": "[encoded data removed]",
      "text/plain": [
       "<Figure size 432x288 with 1 Axes>"
      ]
     },
     "metadata": {},
     "output_type": "display_data"
    }
   ],
   "source": [
    "x = monthly_trans[monthly_trans['id'] == 1]['month']\n",
    "y = monthly_trans[monthly_trans['id'] == 1]['sales']\n",
    "plt.plot(x, y)"
   ]
  },
  {
   "cell_type": "markdown",
   "metadata": {},
   "source": [
    "### 4-3 Now, lets try to solve the problem"
   ]
  },
  {
   "cell_type": "code",
   "execution_count": 15,
   "metadata": {},
   "outputs": [],
   "source": [
    "from sklearn.pipeline import Pipeline\n",
    "from sklearn.metrics import mean_squared_log_error, mean_squared_error\n",
    "from sklearn.ensemble import RandomForestRegressor\n",
    "from lightgbm import LGBMRegressor\n",
    "from sklearn import base"
   ]
  },
  {
   "cell_type": "markdown",
   "metadata": {},
   "source": [
    "#### 4-3-1 In order to turn a time series forcasting problem to a supervised learning one, one way is to add lags of time as inputs of the ML model (number of these lags can be considered as a hyperparameter of our problem). Here, ToSupervised and ToSupervisedDiff classes prepares and shapes the data in the mentioend format. The conversion to the new data format will be conducted by a simple pipeline."
   ]
  },
  {
   "cell_type": "code",
   "execution_count": 16,
   "metadata": {},
   "outputs": [],
   "source": [
    "class ToSupervised(base.BaseEstimator, base.TransformerMixin):\n",
    "    \n",
    "    def __init__(self, col, groupCol, num_lags, dropna=False):\n",
    "        self.col = col\n",
    "        self.groupCol = groupCol\n",
    "        self.num_lags = num_lags\n",
    "        self.dropna = dropna\n",
    "    \n",
    "    def fit(self, X, y=None):\n",
    "        self.X = X\n",
    "        return self\n",
    "    \n",
    "    def transform(self, X):\n",
    "        new_X = self.X.copy()\n",
    "        for i in range(1, self.num_lags+1):\n",
    "            new_X[str(i)+'_Month_Ago'+\"_\"+self.col] = new_X.groupby([self.groupCol])[self.col].shift(i) \n",
    "            \n",
    "        if self.dropna:\n",
    "            new_X = new_X.dropna()\n",
    "            new_X = new_X.reset_index(drop=True)\n",
    "        \n",
    "        return new_X"
   ]
  },
  {
   "cell_type": "code",
   "execution_count": 17,
   "metadata": {},
   "outputs": [],
   "source": [
    "class ToSupervisedDiff(base.BaseEstimator, base.TransformerMixin):\n",
    "    \n",
    "    def __init__(self, col, groupCol, num_lags, dropna=False):\n",
    "        self.col = col\n",
    "        self.groupCol = groupCol\n",
    "        self.num_lags = num_lags\n",
    "        self.dropna = dropna\n",
    "    \n",
    "    def fit(self, X, y=None):\n",
    "        self.X = X\n",
    "        return self\n",
    "    \n",
    "    def transform(self, X):\n",
    "        new_X = self.X.copy()\n",
    "        for i in range(1, self.num_lags+1):\n",
    "            new_X[str(i)+'_Month_Ago_Diff_'+\"_\"+self.col] = new_X.groupby([self.groupCol])[self.col].diff(i) \n",
    "            \n",
    "        if self.dropna:\n",
    "            new_X = new_X.dropna()\n",
    "            new_X = new_X.reset_index(drop=True)\n",
    "        \n",
    "        return new_X"
   ]
  },
  {
   "cell_type": "markdown",
   "metadata": {},
   "source": [
    "### 1-2 Time-Series K-Fold"
   ]
  },
  {
   "cell_type": "code",
   "execution_count": 18,
   "metadata": {},
   "outputs": [],
   "source": [
    "from itertools import chain\n",
    "\n",
    "class Kfold_time(object):\n",
    "    \n",
    "    def __init__(self, **options):\n",
    "        self.target = options.pop('target', None)\n",
    "        self.month_col = options.pop('month_col', None)\n",
    "        self.start_month = options.pop('start_month', None)\n",
    "        self.end_month = options.pop('end_month', None)\n",
    "        \n",
    "        if options:\n",
    "            raise TypeError(\"Invalid parameters passed: %s\" % str(options))\n",
    "            \n",
    "        if ((self.target==None )| (self.month_col==None )| (self.start_month==None ) | (self.end_month==None )):\n",
    "            raise TypeError(\"Incomplete inputs\")\n",
    "    \n",
    "    def _train_test_split(self, X):\n",
    "        n_arrays = len(X)\n",
    "        if n_arrays == 0:\n",
    "            raise ValueError(\"At least one array required as input\")\n",
    "        \n",
    "        for i in range(self.start_month, self.end_month):\n",
    "            train = X[X[self.month_col] < i]\n",
    "            val = X[X[self.month_col] == i]\n",
    "            \n",
    "            X_train, X_test = train.drop([self.target], axis=1), val.drop([self.target], axis=1)\n",
    "            y_train, y_test = train[self.target].values, val[self.target].values\n",
    "            \n",
    "            yield X_train, X_test, y_train, y_test\n",
    "        \n",
    "    def split(self, X):\n",
    "        cv_t = self._train_test_split(X)\n",
    "        return chain(cv_t)"
   ]
  },
  {
   "cell_type": "markdown",
   "metadata": {},
   "source": [
    "### 1-3 Metric: RMSLE"
   ]
  },
  {
   "cell_type": "code",
   "execution_count": 19,
   "metadata": {},
   "outputs": [],
   "source": [
    "def rmsle(y_true, y_pred):\n",
    "    return np.sqrt(mean_squared_log_error(y_true, y_pred))"
   ]
  },
  {
   "cell_type": "code",
   "execution_count": 20,
   "metadata": {},
   "outputs": [],
   "source": [
    "def rmse(y_true, y_pred):\n",
    "    return np.sqrt(mean_squared_error(y_true, y_pred))"
   ]
  },
  {
   "cell_type": "markdown",
   "metadata": {},
   "source": [
    "#### 1-4 Baseline Estimator"
   ]
  },
  {
   "cell_type": "code",
   "execution_count": 21,
   "metadata": {},
   "outputs": [],
   "source": [
    "class BaseEstimator(base.BaseEstimator, base.RegressorMixin):\n",
    "    \n",
    "    def __init__(self, predCol):\n",
    "        \"\"\"\n",
    "            As a base model we assume the number of sales last week and this week are the same\n",
    "            Input: \n",
    "                    predCol: l-week ago sales\n",
    "        \"\"\"\n",
    "        self.predCol = predCol\n",
    "        \n",
    "    def fit(self, X, y):\n",
    "        return self\n",
    "    \n",
    "    def predict(self, X):\n",
    "        pred = X[self.predCol].values\n",
    "        return pred\n",
    "\n",
    "    def score(self, X, y, scoring):\n",
    "        \n",
    "        prediction = self.predict(X)\n",
    "        error = scoring(y, prediction) # np.sqrt(mean_squared_log_error(y, prediction))\n",
    "        return error\n",
    "    "
   ]
  },
  {
   "cell_type": "markdown",
   "metadata": {},
   "source": [
    "#### 1-5 Time-Series Regression"
   ]
  },
  {
   "cell_type": "code",
   "execution_count": 22,
   "metadata": {},
   "outputs": [],
   "source": [
    "class TimeSeriesRegressor(base.BaseEstimator, base.RegressorMixin):\n",
    "    \n",
    "    def __init__(self, model, cv, scoring, verbosity=True):\n",
    "        self.model = model\n",
    "        self.cv = cv\n",
    "        self.scoring = scoring\n",
    "        self.verbosity = verbosity\n",
    "        \n",
    "    def fit(self, X, y=None):\n",
    "        return self\n",
    "    \n",
    "    def predict(self, X=None):\n",
    "        \n",
    "        pred = {}\n",
    "        for idx, fold in enumerate(self.cv.split(X)):\n",
    "            \n",
    "            X_train, X_test, y_train, y_test = fold\n",
    "            self.model.fit(X_train, y_train)\n",
    "            pred[str(idx)+'_fold'] = self.model.predict(X_test)\n",
    "            \n",
    "        prediction = pd.DataFrame(pred)\n",
    "        return prediction\n",
    "    \n",
    "    def score(self, X, y=None):\n",
    "        \n",
    "        errors = []\n",
    "        for idx, fold in enumerate(self.cv.split(X)):\n",
    "\n",
    "            X_train, X_test, y_train, y_test = fold    \n",
    "            self.model.fit(X_train, y_train)\n",
    "            prediction = self.model.predict(X_test)\n",
    "            error = self.scoring(y_test, prediction)\n",
    "            errors.append(error)\n",
    "            \n",
    "            if self.verbosity:\n",
    "                print(\"Fold: {}, Error: {:.4f}\".format(idx,error))\n",
    "        if self.verbosity:\n",
    "            print('Total Error {:.4f}'.format(np.mean(errors)))\n",
    "\n",
    "        return error\n",
    "\n",
    "        "
   ]
  },
  {
   "cell_type": "code",
   "execution_count": 23,
   "metadata": {},
   "outputs": [],
   "source": [
    "class TimeSeriesRegressorLog(base.BaseEstimator, base.RegressorMixin):\n",
    "    \n",
    "    def __init__(self,model,cv,scoring,verbosity=True):\n",
    "        self.model = model\n",
    "        self.cv = cv\n",
    "        self.scoring = scoring\n",
    "        self.verbosity = verbosity\n",
    "        \n",
    "            \n",
    "    def fit(self,X,y=None):\n",
    "        return self\n",
    "        \n",
    "    \n",
    "    def predict(self,X=None):\n",
    "        \n",
    "        pred = {}\n",
    "        for idx, fold in enumerate(self.cv.split(X)):\n",
    "\n",
    "            X_train, X_test, y_train, y_test = fold    \n",
    "            self.model.fit(X_train, y_train)\n",
    "            pred[str(idx)+'_fold'] = self.model.predict(X_test)\n",
    "            \n",
    "        prediction = pd.DataFrame(pred)\n",
    "    \n",
    "        return prediction\n",
    "\n",
    "    \n",
    "    def score(self,X,y=None):\n",
    "\n",
    "        errors = []\n",
    "        for idx,fold in enumerate(self.cv.split(X)):\n",
    "\n",
    "            X_train, X_test, y_train, y_test = fold    \n",
    "            self.model.fit(X_train, np.log1p(y_train))\n",
    "            prediction = np.expm1(self.model.predict(X_test))\n",
    "            error = self.scoring(y_test, prediction)\n",
    "            errors.append(error)\n",
    "\n",
    "            if self.verbosity:\n",
    "                print(\"Fold: {}, Error: {:.4f}\".format(idx,error))\n",
    "\n",
    "        if self.verbosity:\n",
    "                print('Total Error {:.4f}'.format(np.mean(errors)))\n",
    "\n",
    "        return errors"
   ]
  },
  {
   "cell_type": "markdown",
   "metadata": {},
   "source": [
    "#### 1-6 Data Preparation"
   ]
  },
  {
   "cell_type": "code",
   "execution_count": 24,
   "metadata": {},
   "outputs": [],
   "source": [
    "steps = [('1_step',ToSupervised('sales','id',1)),\n",
    "         ('1_step_diff',ToSupervisedDiff('1_Month_Ago_sales','id',1,dropna=True))]\n",
    "super_1 = Pipeline(steps).fit_transform(monthly_trans)"
   ]
  },
  {
   "cell_type": "code",
   "execution_count": 25,
   "metadata": {},
   "outputs": [
    {
     "data": {
      "text/html": [
       "<div>\n",
       "<style scoped>\n",
       "    .dataframe tbody tr th:only-of-type {\n",
       "        vertical-align: middle;\n",
       "    }\n",
       "\n",
       "    .dataframe tbody tr th {\n",
       "        vertical-align: top;\n",
       "    }\n",
       "\n",
       "    .dataframe thead th {\n",
       "        text-align: right;\n",
       "    }\n",
       "</style>\n",
       "<table border=\"1\" class=\"dataframe\">\n",
       "  <thead>\n",
       "    <tr style=\"text-align: right;\">\n",
       "      <th></th>\n",
       "      <th>id</th>\n",
       "      <th>month</th>\n",
       "      <th>sales</th>\n",
       "      <th>1_Month_Ago_sales</th>\n",
       "      <th>1_Month_Ago_Diff__1_Month_Ago_sales</th>\n",
       "    </tr>\n",
       "  </thead>\n",
       "  <tbody>\n",
       "    <tr>\n",
       "      <th>0</th>\n",
       "      <td>1</td>\n",
       "      <td>2</td>\n",
       "      <td>4185</td>\n",
       "      <td>4147.0</td>\n",
       "      <td>3303.0</td>\n",
       "    </tr>\n",
       "    <tr>\n",
       "      <th>1</th>\n",
       "      <td>2</td>\n",
       "      <td>2</td>\n",
       "      <td>114</td>\n",
       "      <td>131.0</td>\n",
       "      <td>113.0</td>\n",
       "    </tr>\n",
       "    <tr>\n",
       "      <th>2</th>\n",
       "      <td>3</td>\n",
       "      <td>2</td>\n",
       "      <td>1940</td>\n",
       "      <td>1726.0</td>\n",
       "      <td>1035.0</td>\n",
       "    </tr>\n",
       "    <tr>\n",
       "      <th>3</th>\n",
       "      <td>4</td>\n",
       "      <td>2</td>\n",
       "      <td>0</td>\n",
       "      <td>0.0</td>\n",
       "      <td>0.0</td>\n",
       "    </tr>\n",
       "    <tr>\n",
       "      <th>4</th>\n",
       "      <td>5</td>\n",
       "      <td>2</td>\n",
       "      <td>136</td>\n",
       "      <td>175.0</td>\n",
       "      <td>137.0</td>\n",
       "    </tr>\n",
       "    <tr>\n",
       "      <th>...</th>\n",
       "      <td>...</td>\n",
       "      <td>...</td>\n",
       "      <td>...</td>\n",
       "      <td>...</td>\n",
       "      <td>...</td>\n",
       "    </tr>\n",
       "    <tr>\n",
       "      <th>1845</th>\n",
       "      <td>46</td>\n",
       "      <td>38</td>\n",
       "      <td>12</td>\n",
       "      <td>19.0</td>\n",
       "      <td>0.0</td>\n",
       "    </tr>\n",
       "    <tr>\n",
       "      <th>1846</th>\n",
       "      <td>47</td>\n",
       "      <td>38</td>\n",
       "      <td>235</td>\n",
       "      <td>173.0</td>\n",
       "      <td>-21.0</td>\n",
       "    </tr>\n",
       "    <tr>\n",
       "      <th>1847</th>\n",
       "      <td>48</td>\n",
       "      <td>38</td>\n",
       "      <td>0</td>\n",
       "      <td>0.0</td>\n",
       "      <td>0.0</td>\n",
       "    </tr>\n",
       "    <tr>\n",
       "      <th>1848</th>\n",
       "      <td>49</td>\n",
       "      <td>38</td>\n",
       "      <td>0</td>\n",
       "      <td>18.0</td>\n",
       "      <td>5.0</td>\n",
       "    </tr>\n",
       "    <tr>\n",
       "      <th>1849</th>\n",
       "      <td>50</td>\n",
       "      <td>38</td>\n",
       "      <td>124</td>\n",
       "      <td>269.0</td>\n",
       "      <td>-6.0</td>\n",
       "    </tr>\n",
       "  </tbody>\n",
       "</table>\n",
       "<p>1850 rows × 5 columns</p>\n",
       "</div>"
      ],
      "text/plain": [
       "      id  month  sales  1_Month_Ago_sales  1_Month_Ago_Diff__1_Month_Ago_sales\n",
       "0      1      2   4185             4147.0                               3303.0\n",
       "1      2      2    114              131.0                                113.0\n",
       "2      3      2   1940             1726.0                               1035.0\n",
       "3      4      2      0                0.0                                  0.0\n",
       "4      5      2    136              175.0                                137.0\n",
       "...   ..    ...    ...                ...                                  ...\n",
       "1845  46     38     12               19.0                                  0.0\n",
       "1846  47     38    235              173.0                                -21.0\n",
       "1847  48     38      0                0.0                                  0.0\n",
       "1848  49     38      0               18.0                                  5.0\n",
       "1849  50     38    124              269.0                                 -6.0\n",
       "\n",
       "[1850 rows x 5 columns]"
      ]
     },
     "execution_count": 25,
     "metadata": {},
     "output_type": "execute_result"
    }
   ],
   "source": [
    "super_1"
   ]
  },
  {
   "cell_type": "code",
   "execution_count": null,
   "metadata": {},
   "outputs": [],
   "source": []
  },
  {
   "cell_type": "code",
   "execution_count": 26,
   "metadata": {},
   "outputs": [
    {
     "name": "stdout",
     "output_type": "stream",
     "text": [
      "Fold: 0, Error: 0.841\n",
      "Fold: 1, Error: 1.030\n",
      "Total Error 0.935\n"
     ]
    }
   ],
   "source": [
    "# base model\n",
    "kf = Kfold_time(target='sales',month_col = 'month', start_month=37,end_month=39)\n",
    "\n",
    "base_model = BaseEstimator('1_Month_Ago_sales')\n",
    "errors = []\n",
    "for indx,fold in enumerate(kf.split(super_1)):\n",
    "    X_train, X_test, y_train, y_test = fold\n",
    "    error = base_model.score(X_test,y_test,rmsle)\n",
    "    errors.append(error)\n",
    "    print(\"Fold: {}, Error: {:.3f}\".format(indx,error))\n",
    "    \n",
    "print('Total Error {:.3f}'.format(np.mean(errors)))"
   ]
  },
  {
   "cell_type": "code",
   "execution_count": 27,
   "metadata": {},
   "outputs": [
    {
     "name": "stdout",
     "output_type": "stream",
     "text": [
      "Fold: 0, Error: 1.4563\n",
      "Fold: 1, Error: 1.4676\n",
      "Total Error 1.4619\n"
     ]
    }
   ],
   "source": [
    "# 1-step model\n",
    "model = RandomForestRegressor(n_estimators=1000, n_jobs=-1, random_state=0)\n",
    "steps_1 = [('1_step',ToSupervised('sales','id',1)),\n",
    "         ('1_step_diff',ToSupervisedDiff('1_Month_Ago_sales','id',1,dropna=True)),\n",
    "         ('predic_1',TimeSeriesRegressor(model=model,cv=kf,scoring=rmsle))]\n",
    "super_1_p = Pipeline(steps_1).fit(monthly_trans)\n",
    "Model_1_Error = super_1_p.score(monthly_trans)"
   ]
  },
  {
   "cell_type": "code",
   "execution_count": 33,
   "metadata": {},
   "outputs": [],
   "source": [
    "# 4 step\n",
    "steps_3 = [('1_step',ToSupervised('sales','id',3)),\n",
    "         ('1_step_diff',ToSupervisedDiff('1_Month_Ago_sales','id',1)),\n",
    "         ('2_step_diff',ToSupervisedDiff('2_Month_Ago_sales','id',1)),\n",
    "         ('3_step_diff',ToSupervisedDiff('3_Month_Ago_sales','id',1,dropna=True)),\n",
    "         ('predic_3',TimeSeriesRegressor(model=model,cv=kf,scoring=rmsle))]\n",
    "super_3_p = Pipeline(steps_3).fit(monthly_trans)"
   ]
  },
  {
   "cell_type": "code",
   "execution_count": 34,
   "metadata": {},
   "outputs": [
    {
     "name": "stdout",
     "output_type": "stream",
     "text": [
      "Fold: 0, Error: 1.3918\n",
      "Fold: 1, Error: 1.5268\n",
      "Total Error 1.4593\n"
     ]
    }
   ],
   "source": [
    "Model_3_Error = super_3_p.score(monthly_trans)"
   ]
  },
  {
   "cell_type": "code",
   "execution_count": 35,
   "metadata": {},
   "outputs": [],
   "source": [
    "steps_3_log = [('1_step',ToSupervised('sales','id',3)),\n",
    "         ('1_step_diff',ToSupervisedDiff('1_Month_Ago_sales','id',1)),\n",
    "         ('2_step_diff',ToSupervisedDiff('2_Month_Ago_sales','id',1)),\n",
    "         ('3_step_diff',ToSupervisedDiff('3_Month_Ago_sales','id',1,dropna=True)),\n",
    "         ('predic_3',TimeSeriesRegressorLog(model=model,cv=kf,scoring=rmsle))]\n",
    "super_3_p_log = Pipeline(steps_3_log).fit(monthly_trans)"
   ]
  },
  {
   "cell_type": "code",
   "execution_count": 36,
   "metadata": {},
   "outputs": [
    {
     "name": "stdout",
     "output_type": "stream",
     "text": [
      "Fold: 0, Error: 0.8393\n",
      "Fold: 1, Error: 1.0422\n",
      "Total Error 0.9407\n"
     ]
    }
   ],
   "source": [
    "Model_3_Log_Error = super_3_p_log.score(monthly_trans)"
   ]
  },
  {
   "cell_type": "code",
   "execution_count": 37,
   "metadata": {},
   "outputs": [],
   "source": [
    "# model_lgb = LGBMRegressor(n_estimators=1000, learning_rate=0.01)\n",
    "# steps_3_log_lgbm = [('1_step',ToSupervised('sales','id',3)),\n",
    "#          ('1_step_diff',ToSupervisedDiff('1_Month_Ago_sales','id',1)),\n",
    "#          ('2_step_diff',ToSupervisedDiff('2_Month_Ago_sales','id',1)),\n",
    "#          ('3_step_diff',ToSupervisedDiff('3_Month_Ago_sales','id',1,dropna=True)),\n",
    "#          ('predic_3',TimeSeriesRegressorLog(model=model_lgb ,cv=kf,scoring=rmsle))]\n",
    "# super_3_p_log_lgbm = Pipeline(steps_3_log_lgbm).fit(monthly_trans)"
   ]
  },
  {
   "cell_type": "markdown",
   "metadata": {},
   "source": [
    "#### Kind of wierd outcome! should check it."
   ]
  },
  {
   "cell_type": "code",
   "execution_count": null,
   "metadata": {},
   "outputs": [],
   "source": []
  },
  {
   "cell_type": "markdown",
   "metadata": {},
   "source": [
    "### 5- What other interesting questions can be asked about this? For example, do you see a seasonality effect?"
   ]
  },
  {
   "cell_type": "code",
   "execution_count": 38,
   "metadata": {},
   "outputs": [
    {
     "data": {
      "text/html": [
       "<div>\n",
       "<style scoped>\n",
       "    .dataframe tbody tr th:only-of-type {\n",
       "        vertical-align: middle;\n",
       "    }\n",
       "\n",
       "    .dataframe tbody tr th {\n",
       "        vertical-align: top;\n",
       "    }\n",
       "\n",
       "    .dataframe thead th {\n",
       "        text-align: right;\n",
       "    }\n",
       "</style>\n",
       "<table border=\"1\" class=\"dataframe\">\n",
       "  <thead>\n",
       "    <tr style=\"text-align: right;\">\n",
       "      <th></th>\n",
       "      <th>customer_id</th>\n",
       "      <th>product_id</th>\n",
       "      <th>date</th>\n",
       "      <th>year</th>\n",
       "      <th>month</th>\n",
       "      <th>season</th>\n",
       "    </tr>\n",
       "  </thead>\n",
       "  <tbody>\n",
       "    <tr>\n",
       "      <th>0</th>\n",
       "      <td>6689489</td>\n",
       "      <td>0A4G5LZWCP</td>\n",
       "      <td>2017-01-31T09:31:08.873Z</td>\n",
       "      <td>2017</td>\n",
       "      <td>1</td>\n",
       "      <td>1</td>\n",
       "    </tr>\n",
       "    <tr>\n",
       "      <th>1</th>\n",
       "      <td>6689489</td>\n",
       "      <td>XZ6UVEYK40</td>\n",
       "      <td>2017-02-03T16:59:16.610Z</td>\n",
       "      <td>2017</td>\n",
       "      <td>2</td>\n",
       "      <td>1</td>\n",
       "    </tr>\n",
       "    <tr>\n",
       "      <th>2</th>\n",
       "      <td>6689489</td>\n",
       "      <td>XZ6UVEYK40</td>\n",
       "      <td>2017-02-05T19:47:55.353Z</td>\n",
       "      <td>2017</td>\n",
       "      <td>2</td>\n",
       "      <td>1</td>\n",
       "    </tr>\n",
       "    <tr>\n",
       "      <th>3</th>\n",
       "      <td>6689489</td>\n",
       "      <td>XZ6UVEYK40</td>\n",
       "      <td>2017-02-05T19:48:14.633Z</td>\n",
       "      <td>2017</td>\n",
       "      <td>2</td>\n",
       "      <td>1</td>\n",
       "    </tr>\n",
       "    <tr>\n",
       "      <th>4</th>\n",
       "      <td>6689489</td>\n",
       "      <td>XZ6UVEYK40</td>\n",
       "      <td>2017-02-06T09:59:49.053Z</td>\n",
       "      <td>2017</td>\n",
       "      <td>2</td>\n",
       "      <td>1</td>\n",
       "    </tr>\n",
       "    <tr>\n",
       "      <th>...</th>\n",
       "      <td>...</td>\n",
       "      <td>...</td>\n",
       "      <td>...</td>\n",
       "      <td>...</td>\n",
       "      <td>...</td>\n",
       "      <td>...</td>\n",
       "    </tr>\n",
       "    <tr>\n",
       "      <th>975950</th>\n",
       "      <td>9770266</td>\n",
       "      <td>5RPSDK28JR</td>\n",
       "      <td>2019-05-17T10:06:43.037Z</td>\n",
       "      <td>2019</td>\n",
       "      <td>5</td>\n",
       "      <td>2</td>\n",
       "    </tr>\n",
       "    <tr>\n",
       "      <th>975951</th>\n",
       "      <td>2552305</td>\n",
       "      <td>5RPSDK28JR</td>\n",
       "      <td>2017-10-27T17:49:54.483Z</td>\n",
       "      <td>2017</td>\n",
       "      <td>10</td>\n",
       "      <td>4</td>\n",
       "    </tr>\n",
       "    <tr>\n",
       "      <th>975952</th>\n",
       "      <td>6004163</td>\n",
       "      <td>I2IYFZIO6X</td>\n",
       "      <td>2019-01-09T16:31:08.133Z</td>\n",
       "      <td>2019</td>\n",
       "      <td>1</td>\n",
       "      <td>1</td>\n",
       "    </tr>\n",
       "    <tr>\n",
       "      <th>975953</th>\n",
       "      <td>6632569</td>\n",
       "      <td>0A4G5LZWCP</td>\n",
       "      <td>2017-03-29T16:25:05.907Z</td>\n",
       "      <td>2017</td>\n",
       "      <td>3</td>\n",
       "      <td>1</td>\n",
       "    </tr>\n",
       "    <tr>\n",
       "      <th>975954</th>\n",
       "      <td>9277279</td>\n",
       "      <td>5RPSDK28JR</td>\n",
       "      <td>2020-03-16T22:39:59.247Z</td>\n",
       "      <td>2020</td>\n",
       "      <td>3</td>\n",
       "      <td>1</td>\n",
       "    </tr>\n",
       "  </tbody>\n",
       "</table>\n",
       "<p>975955 rows × 6 columns</p>\n",
       "</div>"
      ],
      "text/plain": [
       "        customer_id  product_id                      date  year  month  season\n",
       "0           6689489  0A4G5LZWCP  2017-01-31T09:31:08.873Z  2017      1       1\n",
       "1           6689489  XZ6UVEYK40  2017-02-03T16:59:16.610Z  2017      2       1\n",
       "2           6689489  XZ6UVEYK40  2017-02-05T19:47:55.353Z  2017      2       1\n",
       "3           6689489  XZ6UVEYK40  2017-02-05T19:48:14.633Z  2017      2       1\n",
       "4           6689489  XZ6UVEYK40  2017-02-06T09:59:49.053Z  2017      2       1\n",
       "...             ...         ...                       ...   ...    ...     ...\n",
       "975950      9770266  5RPSDK28JR  2019-05-17T10:06:43.037Z  2019      5       2\n",
       "975951      2552305  5RPSDK28JR  2017-10-27T17:49:54.483Z  2017     10       4\n",
       "975952      6004163  I2IYFZIO6X  2019-01-09T16:31:08.133Z  2019      1       1\n",
       "975953      6632569  0A4G5LZWCP  2017-03-29T16:25:05.907Z  2017      3       1\n",
       "975954      9277279  5RPSDK28JR  2020-03-16T22:39:59.247Z  2020      3       1\n",
       "\n",
       "[975955 rows x 6 columns]"
      ]
     },
     "execution_count": 38,
     "metadata": {},
     "output_type": "execute_result"
    }
   ],
   "source": [
    "transactions['season'] = (transactions['month']-1)//3 + 1\n",
    "transactions"
   ]
  },
  {
   "cell_type": "code",
   "execution_count": 39,
   "metadata": {},
   "outputs": [
    {
     "data": {
      "text/plain": [
       "[<matplotlib.lines.Line2D at 0x29836968208>]"
      ]
     },
     "execution_count": 39,
     "metadata": {},
     "output_type": "execute_result"
    },
    {
     "data": {
      "image/png": "[encoded data removed]",
      "text/plain": [
       "<Figure size 432x288 with 1 Axes>"
      ]
     },
     "metadata": {},
     "output_type": "display_data"
    }
   ],
   "source": [
    "# seasonal transactions\n",
    "plt.plot(transactions.groupby(['season']).size())"
   ]
  },
  {
   "cell_type": "code",
   "execution_count": 40,
   "metadata": {},
   "outputs": [
    {
     "data": {
      "text/plain": [
       "[<matplotlib.lines.Line2D at 0x298369bce48>]"
      ]
     },
     "execution_count": 40,
     "metadata": {},
     "output_type": "execute_result"
    },
    {
     "data": {
      "image/png": "[encoded data removed]",
      "text/plain": [
       "<Figure size 432x288 with 1 Axes>"
      ]
     },
     "metadata": {},
     "output_type": "display_data"
    }
   ],
   "source": [
    "# monthly transactions\n",
    "plt.plot(transactions.groupby(['month']).size())"
   ]
  },
  {
   "cell_type": "code",
   "execution_count": 41,
   "metadata": {},
   "outputs": [
    {
     "data": {
      "text/plain": [
       "<function matplotlib.pyplot.show(close=None, block=None)>"
      ]
     },
     "execution_count": 41,
     "metadata": {},
     "output_type": "execute_result"
    },
    {
     "data": {
      "image/png": "[encoded data removed]",
      "text/plain": [
       "<Figure size 432x288 with 1 Axes>"
      ]
     },
     "metadata": {},
     "output_type": "display_data"
    }
   ],
   "source": [
    "# monthly for each year\n",
    "plt.plot(transactions[transactions['year'] == 2017].groupby(['month']).size(), color='r')\n",
    "plt.plot(transactions[transactions['year'] == 2018].groupby(['month']).size(), color='b')\n",
    "plt.plot(transactions[transactions['year'] == 2019].groupby(['month']).size(), color='g')\n",
    "# plt.legend()\n",
    "plt.show"
   ]
  }
 ],
 "metadata": {
  "kernelspec": {
   "display_name": "Python 3",
   "language": "python",
   "name": "python3"
  },
  "language_info": {
   "codemirror_mode": {
    "name": "ipython",
    "version": 3
   },
   "file_extension": ".py",
   "mimetype": "text/x-python",
   "name": "python",
   "nbconvert_exporter": "python",
   "pygments_lexer": "ipython3",
   "version": "3.6.3"
  }
 },
 "nbformat": 4,
 "nbformat_minor": 4
}
