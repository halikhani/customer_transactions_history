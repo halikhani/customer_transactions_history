{
 "cells": [
  {
   "cell_type": "code",
   "execution_count": 312,
   "metadata": {},
   "outputs": [],
   "source": [
    "import numpy as np\n",
    "import pandas as pd\n",
    "import sklearn\n",
    "import matplotlib.pyplot as plt"
   ]
  },
  {
   "cell_type": "code",
   "execution_count": 313,
   "metadata": {},
   "outputs": [],
   "source": [
    "transactions1 = pd.read_csv(\"transactions_1.csv\", index_col='Unnamed: 0')\n",
    "transactions2 = pd.read_csv(\"transactions_2.csv\", index_col='Unnamed: 0')\n",
    "transactions = pd.concat([transactions1, transactions2])"
   ]
  },
  {
   "cell_type": "code",
   "execution_count": 314,
   "metadata": {},
   "outputs": [
    {
     "data": {
      "text/html": [
       "<div>\n",
       "<style scoped>\n",
       "    .dataframe tbody tr th:only-of-type {\n",
       "        vertical-align: middle;\n",
       "    }\n",
       "\n",
       "    .dataframe tbody tr th {\n",
       "        vertical-align: top;\n",
       "    }\n",
       "\n",
       "    .dataframe thead th {\n",
       "        text-align: right;\n",
       "    }\n",
       "</style>\n",
       "<table border=\"1\" class=\"dataframe\">\n",
       "  <thead>\n",
       "    <tr style=\"text-align: right;\">\n",
       "      <th></th>\n",
       "      <th>customer_id</th>\n",
       "      <th>product_id</th>\n",
       "      <th>date</th>\n",
       "    </tr>\n",
       "  </thead>\n",
       "  <tbody>\n",
       "    <tr>\n",
       "      <th>0</th>\n",
       "      <td>6689489</td>\n",
       "      <td>0A4G5LZWCP</td>\n",
       "      <td>2017-01-31T09:31:08.873Z</td>\n",
       "    </tr>\n",
       "    <tr>\n",
       "      <th>1</th>\n",
       "      <td>6689489</td>\n",
       "      <td>XZ6UVEYK40</td>\n",
       "      <td>2017-02-03T16:59:16.610Z</td>\n",
       "    </tr>\n",
       "    <tr>\n",
       "      <th>2</th>\n",
       "      <td>6689489</td>\n",
       "      <td>XZ6UVEYK40</td>\n",
       "      <td>2017-02-05T19:47:55.353Z</td>\n",
       "    </tr>\n",
       "    <tr>\n",
       "      <th>3</th>\n",
       "      <td>6689489</td>\n",
       "      <td>XZ6UVEYK40</td>\n",
       "      <td>2017-02-05T19:48:14.633Z</td>\n",
       "    </tr>\n",
       "    <tr>\n",
       "      <th>4</th>\n",
       "      <td>6689489</td>\n",
       "      <td>XZ6UVEYK40</td>\n",
       "      <td>2017-02-06T09:59:49.053Z</td>\n",
       "    </tr>\n",
       "    <tr>\n",
       "      <th>...</th>\n",
       "      <td>...</td>\n",
       "      <td>...</td>\n",
       "      <td>...</td>\n",
       "    </tr>\n",
       "    <tr>\n",
       "      <th>975950</th>\n",
       "      <td>9770266</td>\n",
       "      <td>5RPSDK28JR</td>\n",
       "      <td>2019-05-17T10:06:43.037Z</td>\n",
       "    </tr>\n",
       "    <tr>\n",
       "      <th>975951</th>\n",
       "      <td>2552305</td>\n",
       "      <td>5RPSDK28JR</td>\n",
       "      <td>2017-10-27T17:49:54.483Z</td>\n",
       "    </tr>\n",
       "    <tr>\n",
       "      <th>975952</th>\n",
       "      <td>6004163</td>\n",
       "      <td>I2IYFZIO6X</td>\n",
       "      <td>2019-01-09T16:31:08.133Z</td>\n",
       "    </tr>\n",
       "    <tr>\n",
       "      <th>975953</th>\n",
       "      <td>6632569</td>\n",
       "      <td>0A4G5LZWCP</td>\n",
       "      <td>2017-03-29T16:25:05.907Z</td>\n",
       "    </tr>\n",
       "    <tr>\n",
       "      <th>975954</th>\n",
       "      <td>9277279</td>\n",
       "      <td>5RPSDK28JR</td>\n",
       "      <td>2020-03-16T22:39:59.247Z</td>\n",
       "    </tr>\n",
       "  </tbody>\n",
       "</table>\n",
       "<p>975955 rows × 3 columns</p>\n",
       "</div>"
      ],
      "text/plain": [
       "        customer_id  product_id                      date\n",
       "0           6689489  0A4G5LZWCP  2017-01-31T09:31:08.873Z\n",
       "1           6689489  XZ6UVEYK40  2017-02-03T16:59:16.610Z\n",
       "2           6689489  XZ6UVEYK40  2017-02-05T19:47:55.353Z\n",
       "3           6689489  XZ6UVEYK40  2017-02-05T19:48:14.633Z\n",
       "4           6689489  XZ6UVEYK40  2017-02-06T09:59:49.053Z\n",
       "...             ...         ...                       ...\n",
       "975950      9770266  5RPSDK28JR  2019-05-17T10:06:43.037Z\n",
       "975951      2552305  5RPSDK28JR  2017-10-27T17:49:54.483Z\n",
       "975952      6004163  I2IYFZIO6X  2019-01-09T16:31:08.133Z\n",
       "975953      6632569  0A4G5LZWCP  2017-03-29T16:25:05.907Z\n",
       "975954      9277279  5RPSDK28JR  2020-03-16T22:39:59.247Z\n",
       "\n",
       "[975955 rows x 3 columns]"
      ]
     },
     "execution_count": 314,
     "metadata": {},
     "output_type": "execute_result"
    }
   ],
   "source": [
    "transactions"
   ]
  },
  {
   "cell_type": "code",
   "execution_count": 315,
   "metadata": {},
   "outputs": [
    {
     "data": {
      "text/html": [
       "<div>\n",
       "<style scoped>\n",
       "    .dataframe tbody tr th:only-of-type {\n",
       "        vertical-align: middle;\n",
       "    }\n",
       "\n",
       "    .dataframe tbody tr th {\n",
       "        vertical-align: top;\n",
       "    }\n",
       "\n",
       "    .dataframe thead th {\n",
       "        text-align: right;\n",
       "    }\n",
       "</style>\n",
       "<table border=\"1\" class=\"dataframe\">\n",
       "  <thead>\n",
       "    <tr style=\"text-align: right;\">\n",
       "      <th></th>\n",
       "      <th>customer_id</th>\n",
       "      <th>product_id</th>\n",
       "      <th>date</th>\n",
       "      <th>year</th>\n",
       "      <th>month</th>\n",
       "    </tr>\n",
       "  </thead>\n",
       "  <tbody>\n",
       "    <tr>\n",
       "      <th>0</th>\n",
       "      <td>6689489</td>\n",
       "      <td>0A4G5LZWCP</td>\n",
       "      <td>2017-01-31T09:31:08.873Z</td>\n",
       "      <td>2017</td>\n",
       "      <td>1</td>\n",
       "    </tr>\n",
       "    <tr>\n",
       "      <th>1</th>\n",
       "      <td>6689489</td>\n",
       "      <td>XZ6UVEYK40</td>\n",
       "      <td>2017-02-03T16:59:16.610Z</td>\n",
       "      <td>2017</td>\n",
       "      <td>2</td>\n",
       "    </tr>\n",
       "    <tr>\n",
       "      <th>2</th>\n",
       "      <td>6689489</td>\n",
       "      <td>XZ6UVEYK40</td>\n",
       "      <td>2017-02-05T19:47:55.353Z</td>\n",
       "      <td>2017</td>\n",
       "      <td>2</td>\n",
       "    </tr>\n",
       "    <tr>\n",
       "      <th>3</th>\n",
       "      <td>6689489</td>\n",
       "      <td>XZ6UVEYK40</td>\n",
       "      <td>2017-02-05T19:48:14.633Z</td>\n",
       "      <td>2017</td>\n",
       "      <td>2</td>\n",
       "    </tr>\n",
       "    <tr>\n",
       "      <th>4</th>\n",
       "      <td>6689489</td>\n",
       "      <td>XZ6UVEYK40</td>\n",
       "      <td>2017-02-06T09:59:49.053Z</td>\n",
       "      <td>2017</td>\n",
       "      <td>2</td>\n",
       "    </tr>\n",
       "    <tr>\n",
       "      <th>...</th>\n",
       "      <td>...</td>\n",
       "      <td>...</td>\n",
       "      <td>...</td>\n",
       "      <td>...</td>\n",
       "      <td>...</td>\n",
       "    </tr>\n",
       "    <tr>\n",
       "      <th>975950</th>\n",
       "      <td>9770266</td>\n",
       "      <td>5RPSDK28JR</td>\n",
       "      <td>2019-05-17T10:06:43.037Z</td>\n",
       "      <td>2019</td>\n",
       "      <td>5</td>\n",
       "    </tr>\n",
       "    <tr>\n",
       "      <th>975951</th>\n",
       "      <td>2552305</td>\n",
       "      <td>5RPSDK28JR</td>\n",
       "      <td>2017-10-27T17:49:54.483Z</td>\n",
       "      <td>2017</td>\n",
       "      <td>10</td>\n",
       "    </tr>\n",
       "    <tr>\n",
       "      <th>975952</th>\n",
       "      <td>6004163</td>\n",
       "      <td>I2IYFZIO6X</td>\n",
       "      <td>2019-01-09T16:31:08.133Z</td>\n",
       "      <td>2019</td>\n",
       "      <td>1</td>\n",
       "    </tr>\n",
       "    <tr>\n",
       "      <th>975953</th>\n",
       "      <td>6632569</td>\n",
       "      <td>0A4G5LZWCP</td>\n",
       "      <td>2017-03-29T16:25:05.907Z</td>\n",
       "      <td>2017</td>\n",
       "      <td>3</td>\n",
       "    </tr>\n",
       "    <tr>\n",
       "      <th>975954</th>\n",
       "      <td>9277279</td>\n",
       "      <td>5RPSDK28JR</td>\n",
       "      <td>2020-03-16T22:39:59.247Z</td>\n",
       "      <td>2020</td>\n",
       "      <td>3</td>\n",
       "    </tr>\n",
       "  </tbody>\n",
       "</table>\n",
       "<p>975955 rows × 5 columns</p>\n",
       "</div>"
      ],
      "text/plain": [
       "        customer_id  product_id                      date  year  month\n",
       "0           6689489  0A4G5LZWCP  2017-01-31T09:31:08.873Z  2017      1\n",
       "1           6689489  XZ6UVEYK40  2017-02-03T16:59:16.610Z  2017      2\n",
       "2           6689489  XZ6UVEYK40  2017-02-05T19:47:55.353Z  2017      2\n",
       "3           6689489  XZ6UVEYK40  2017-02-05T19:48:14.633Z  2017      2\n",
       "4           6689489  XZ6UVEYK40  2017-02-06T09:59:49.053Z  2017      2\n",
       "...             ...         ...                       ...   ...    ...\n",
       "975950      9770266  5RPSDK28JR  2019-05-17T10:06:43.037Z  2019      5\n",
       "975951      2552305  5RPSDK28JR  2017-10-27T17:49:54.483Z  2017     10\n",
       "975952      6004163  I2IYFZIO6X  2019-01-09T16:31:08.133Z  2019      1\n",
       "975953      6632569  0A4G5LZWCP  2017-03-29T16:25:05.907Z  2017      3\n",
       "975954      9277279  5RPSDK28JR  2020-03-16T22:39:59.247Z  2020      3\n",
       "\n",
       "[975955 rows x 5 columns]"
      ]
     },
     "execution_count": 315,
     "metadata": {},
     "output_type": "execute_result"
    }
   ],
   "source": [
    "transactions['year'] = pd.DatetimeIndex(transactions['date']).year\n",
    "transactions['month'] = pd.DatetimeIndex(transactions['date']).month\n",
    "transactions"
   ]
  },
  {
   "cell_type": "markdown",
   "metadata": {},
   "source": [
    "## Basic Questions\n",
    "### 1- Create an ordered (descending) plot for the total number of transactions per customer from the most to the least active customer."
   ]
  },
  {
   "cell_type": "code",
   "execution_count": 316,
   "metadata": {},
   "outputs": [
    {
     "data": {
      "text/plain": [
       "[<matplotlib.lines.Line2D at 0x1f1023dd240>]"
      ]
     },
     "execution_count": 316,
     "metadata": {},
     "output_type": "execute_result"
    },
    {
     "data": {
      "image/png": "[encoded data removed]",
      "text/plain": [
       "<Figure size 432x288 with 1 Axes>"
      ]
     },
     "metadata": {
      "needs_background": "light"
     },
     "output_type": "display_data"
    }
   ],
   "source": [
    "transaction_per_customer = transactions.groupby('customer_id').size()\n",
    "sorted_trans_per_customer = transaction_per_customer.sort_values(ascending=False)\n",
    "x = sorted_trans_per_customer.reset_index(drop=True)\n",
    "plt.plot(x)"
   ]
  },
  {
   "cell_type": "code",
   "execution_count": null,
   "metadata": {},
   "outputs": [],
   "source": []
  },
  {
   "cell_type": "markdown",
   "metadata": {},
   "source": [
    "### 2- Given any product ID, create a plot to show its transaction frequency per month for the year 2018."
   ]
  },
  {
   "cell_type": "code",
   "execution_count": 317,
   "metadata": {},
   "outputs": [],
   "source": [
    "def plot_trans_perMonth(productID, year):\n",
    "    year_filtered_df = transactions[transactions['year'] == year]\n",
    "    monthly_bill = year_filtered_df.groupby(['product_id', 'month']).size()\n",
    "    plt.plot(monthly_bill[productID])"
   ]
  },
  {
   "cell_type": "code",
   "execution_count": 318,
   "metadata": {},
   "outputs": [
    {
     "data": {
      "image/png": "[encoded data removed]",
      "text/plain": [
       "<Figure size 432x288 with 1 Axes>"
      ]
     },
     "metadata": {
      "needs_background": "light"
     },
     "output_type": "display_data"
    }
   ],
   "source": [
    "plot_trans_perMonth('ZWL2RHU5YP', 2018)"
   ]
  },
  {
   "cell_type": "markdown",
   "metadata": {},
   "source": [
    "### 3- At any time, what are the top 5 products that drove the highest sales over the last six months?"
   ]
  },
  {
   "cell_type": "code",
   "execution_count": 319,
   "metadata": {},
   "outputs": [],
   "source": [
    "def get_last_n_month_highest_sale(n, current_year, current_month):\n",
    "    tmp_transactions = transactions.copy()\n",
    "    \n",
    "    min_year = tmp_transactions['year'].min()\n",
    "    # create a column of 'number of passed months until now to ease the calculations of past n month transaction history'\n",
    "    tmp_transactions['acc_month'] = (tmp_transactions['year'] - min_year)*12 + tmp_transactions['month']\n",
    "    current_acc_month = (current_year - min_year)*12 + current_month\n",
    "    min_acc_month = (current_year - min_year)*12 + current_month - n + 1\n",
    "    \n",
    "    filtered = tmp_transactions[(tmp_transactions['acc_month'] >= min_acc_month)&(tmp_transactions['acc_month']<= current_acc_month)]\n",
    "    return filtered.groupby('product_id').size().sort_values(ascending=False).head(5)"
   ]
  },
  {
   "cell_type": "code",
   "execution_count": 320,
   "metadata": {},
   "outputs": [
    {
     "data": {
      "text/plain": [
       "product_id\n",
       "5RPSDK28JR    21745\n",
       "XZ6UVEYK40    10423\n",
       "VD51ZQPY9D    10204\n",
       "XD4I34ED7F     9585\n",
       "G5HEPH9A2T     9267\n",
       "dtype: int64"
      ]
     },
     "execution_count": 320,
     "metadata": {},
     "output_type": "execute_result"
    }
   ],
   "source": [
    "get_last_n_month_highest_sale(6, 2019, 8)"
   ]
  },
  {
   "cell_type": "markdown",
   "metadata": {},
   "source": [
    "### 4- Build a model to predict the total number of expected transactions over the next month for any customer. Split your data appropriately and give enough validation for the performance of your model by simulating the predicted results and comparing with the true values or however you see fit. Keep in mind that sometimes a carefully crafted plot is worth a thousand words."
   ]
  },
  {
   "cell_type": "markdown",
   "metadata": {},
   "source": [
    "#### Obviously, this is a time series prediction ML problem and we are dealing with the concept of time, so I search around the internet and found  these links ([1](https://towardsdatascience.com/time-series-machine-learning-regression-framework-9ea33929009a), [2](https://towardsdatascience.com/an-end-to-end-project-on-time-series-analysis-and-forecasting-with-python-4835e6bf050b), and [3](https://www.pluralsight.com/guides/machine-learning-for-time-series-data-in-python)) very helpful and used them to solve this problem."
   ]
  },
  {
   "cell_type": "markdown",
   "metadata": {},
   "source": [
    "#### 4-1. Create a proper dataframe which shows us the monthly transactions of each product"
   ]
  },
  {
   "cell_type": "code",
   "execution_count": 321,
   "metadata": {},
   "outputs": [],
   "source": [
    "def create_monthly_sale_df():\n",
    "    monthly_trans_df = transactions.copy()\n",
    "    min_year = monthly_trans_df['year'].min()\n",
    "    monthly_trans_df['acc_month'] = (monthly_trans_df['year'] - min_year)*12 + monthly_trans_df['month']\n",
    "    max_month = monthly_trans_df['acc_month'].max()\n",
    "    monthly_trans_df = monthly_trans_df.drop(columns=['date', 'year', 'month'])\n",
    "    monthly_trans_df = monthly_trans_df.groupby(['product_id', 'acc_month']).size().to_frame(name = 'count')\n",
    "    \n",
    "    monthly_trans_df = monthly_trans_df.pivot_table('count', 'product_id', 'acc_month').fillna(0)\n",
    "    col_names = monthly_trans.columns\n",
    "    new_cols_name = ['month_'+str(i) for i in range(1, len(col_names)+1)]\n",
    "    monthly_trans_df.columns = new_cols_name\n",
    "    return monthly_trans_df\n",
    "    "
   ]
  },
  {
   "cell_type": "code",
   "execution_count": 324,
   "metadata": {},
   "outputs": [
    {
     "data": {
      "text/html": [
       "<div>\n",
       "<style scoped>\n",
       "    .dataframe tbody tr th:only-of-type {\n",
       "        vertical-align: middle;\n",
       "    }\n",
       "\n",
       "    .dataframe tbody tr th {\n",
       "        vertical-align: top;\n",
       "    }\n",
       "\n",
       "    .dataframe thead th {\n",
       "        text-align: right;\n",
       "    }\n",
       "</style>\n",
       "<table border=\"1\" class=\"dataframe\">\n",
       "  <thead>\n",
       "    <tr style=\"text-align: right;\">\n",
       "      <th></th>\n",
       "      <th>month_1</th>\n",
       "      <th>month_2</th>\n",
       "      <th>month_3</th>\n",
       "      <th>month_4</th>\n",
       "      <th>month_5</th>\n",
       "      <th>month_6</th>\n",
       "      <th>month_7</th>\n",
       "      <th>month_8</th>\n",
       "      <th>month_9</th>\n",
       "      <th>month_10</th>\n",
       "      <th>...</th>\n",
       "      <th>month_30</th>\n",
       "      <th>month_31</th>\n",
       "      <th>month_32</th>\n",
       "      <th>month_33</th>\n",
       "      <th>month_34</th>\n",
       "      <th>month_35</th>\n",
       "      <th>month_36</th>\n",
       "      <th>month_37</th>\n",
       "      <th>month_38</th>\n",
       "      <th>month_39</th>\n",
       "    </tr>\n",
       "    <tr>\n",
       "      <th>product_id</th>\n",
       "      <th></th>\n",
       "      <th></th>\n",
       "      <th></th>\n",
       "      <th></th>\n",
       "      <th></th>\n",
       "      <th></th>\n",
       "      <th></th>\n",
       "      <th></th>\n",
       "      <th></th>\n",
       "      <th></th>\n",
       "      <th></th>\n",
       "      <th></th>\n",
       "      <th></th>\n",
       "      <th></th>\n",
       "      <th></th>\n",
       "      <th></th>\n",
       "      <th></th>\n",
       "      <th></th>\n",
       "      <th></th>\n",
       "      <th></th>\n",
       "      <th></th>\n",
       "    </tr>\n",
       "  </thead>\n",
       "  <tbody>\n",
       "    <tr>\n",
       "      <th>0A4G5LZWCP</th>\n",
       "      <td>844.0</td>\n",
       "      <td>4147.0</td>\n",
       "      <td>4185.0</td>\n",
       "      <td>2072.0</td>\n",
       "      <td>4949.0</td>\n",
       "      <td>4647.0</td>\n",
       "      <td>3191.0</td>\n",
       "      <td>2967.0</td>\n",
       "      <td>4085.0</td>\n",
       "      <td>5206.0</td>\n",
       "      <td>...</td>\n",
       "      <td>1199.0</td>\n",
       "      <td>1421.0</td>\n",
       "      <td>998.0</td>\n",
       "      <td>936.0</td>\n",
       "      <td>1410.0</td>\n",
       "      <td>1332.0</td>\n",
       "      <td>691.0</td>\n",
       "      <td>791.0</td>\n",
       "      <td>536.0</td>\n",
       "      <td>322.0</td>\n",
       "    </tr>\n",
       "    <tr>\n",
       "      <th>0AB7PTAD3X</th>\n",
       "      <td>18.0</td>\n",
       "      <td>131.0</td>\n",
       "      <td>114.0</td>\n",
       "      <td>80.0</td>\n",
       "      <td>401.0</td>\n",
       "      <td>204.0</td>\n",
       "      <td>446.0</td>\n",
       "      <td>164.0</td>\n",
       "      <td>183.0</td>\n",
       "      <td>91.0</td>\n",
       "      <td>...</td>\n",
       "      <td>49.0</td>\n",
       "      <td>148.0</td>\n",
       "      <td>98.0</td>\n",
       "      <td>42.0</td>\n",
       "      <td>142.0</td>\n",
       "      <td>3.0</td>\n",
       "      <td>42.0</td>\n",
       "      <td>16.0</td>\n",
       "      <td>4.0</td>\n",
       "      <td>36.0</td>\n",
       "    </tr>\n",
       "    <tr>\n",
       "      <th>0HLIWH0CA1</th>\n",
       "      <td>691.0</td>\n",
       "      <td>1726.0</td>\n",
       "      <td>1940.0</td>\n",
       "      <td>1305.0</td>\n",
       "      <td>2060.0</td>\n",
       "      <td>1821.0</td>\n",
       "      <td>1852.0</td>\n",
       "      <td>1202.0</td>\n",
       "      <td>1233.0</td>\n",
       "      <td>1753.0</td>\n",
       "      <td>...</td>\n",
       "      <td>708.0</td>\n",
       "      <td>764.0</td>\n",
       "      <td>385.0</td>\n",
       "      <td>540.0</td>\n",
       "      <td>754.0</td>\n",
       "      <td>618.0</td>\n",
       "      <td>391.0</td>\n",
       "      <td>300.0</td>\n",
       "      <td>392.0</td>\n",
       "      <td>197.0</td>\n",
       "    </tr>\n",
       "    <tr>\n",
       "      <th>0UZVWTQ50H</th>\n",
       "      <td>0.0</td>\n",
       "      <td>0.0</td>\n",
       "      <td>0.0</td>\n",
       "      <td>0.0</td>\n",
       "      <td>0.0</td>\n",
       "      <td>0.0</td>\n",
       "      <td>0.0</td>\n",
       "      <td>0.0</td>\n",
       "      <td>7.0</td>\n",
       "      <td>0.0</td>\n",
       "      <td>...</td>\n",
       "      <td>0.0</td>\n",
       "      <td>0.0</td>\n",
       "      <td>0.0</td>\n",
       "      <td>0.0</td>\n",
       "      <td>0.0</td>\n",
       "      <td>0.0</td>\n",
       "      <td>0.0</td>\n",
       "      <td>0.0</td>\n",
       "      <td>0.0</td>\n",
       "      <td>0.0</td>\n",
       "    </tr>\n",
       "    <tr>\n",
       "      <th>0W3289OYXV</th>\n",
       "      <td>38.0</td>\n",
       "      <td>175.0</td>\n",
       "      <td>136.0</td>\n",
       "      <td>11.0</td>\n",
       "      <td>2.0</td>\n",
       "      <td>3.0</td>\n",
       "      <td>38.0</td>\n",
       "      <td>61.0</td>\n",
       "      <td>0.0</td>\n",
       "      <td>76.0</td>\n",
       "      <td>...</td>\n",
       "      <td>0.0</td>\n",
       "      <td>0.0</td>\n",
       "      <td>0.0</td>\n",
       "      <td>0.0</td>\n",
       "      <td>0.0</td>\n",
       "      <td>0.0</td>\n",
       "      <td>0.0</td>\n",
       "      <td>0.0</td>\n",
       "      <td>0.0</td>\n",
       "      <td>0.0</td>\n",
       "    </tr>\n",
       "  </tbody>\n",
       "</table>\n",
       "<p>5 rows × 39 columns</p>\n",
       "</div>"
      ],
      "text/plain": [
       "            month_1  month_2  month_3  month_4  month_5  month_6  month_7  \\\n",
       "product_id                                                                  \n",
       "0A4G5LZWCP    844.0   4147.0   4185.0   2072.0   4949.0   4647.0   3191.0   \n",
       "0AB7PTAD3X     18.0    131.0    114.0     80.0    401.0    204.0    446.0   \n",
       "0HLIWH0CA1    691.0   1726.0   1940.0   1305.0   2060.0   1821.0   1852.0   \n",
       "0UZVWTQ50H      0.0      0.0      0.0      0.0      0.0      0.0      0.0   \n",
       "0W3289OYXV     38.0    175.0    136.0     11.0      2.0      3.0     38.0   \n",
       "\n",
       "            month_8  month_9  month_10  ...  month_30  month_31  month_32  \\\n",
       "product_id                              ...                                 \n",
       "0A4G5LZWCP   2967.0   4085.0    5206.0  ...    1199.0    1421.0     998.0   \n",
       "0AB7PTAD3X    164.0    183.0      91.0  ...      49.0     148.0      98.0   \n",
       "0HLIWH0CA1   1202.0   1233.0    1753.0  ...     708.0     764.0     385.0   \n",
       "0UZVWTQ50H      0.0      7.0       0.0  ...       0.0       0.0       0.0   \n",
       "0W3289OYXV     61.0      0.0      76.0  ...       0.0       0.0       0.0   \n",
       "\n",
       "            month_33  month_34  month_35  month_36  month_37  month_38  \\\n",
       "product_id                                                               \n",
       "0A4G5LZWCP     936.0    1410.0    1332.0     691.0     791.0     536.0   \n",
       "0AB7PTAD3X      42.0     142.0       3.0      42.0      16.0       4.0   \n",
       "0HLIWH0CA1     540.0     754.0     618.0     391.0     300.0     392.0   \n",
       "0UZVWTQ50H       0.0       0.0       0.0       0.0       0.0       0.0   \n",
       "0W3289OYXV       0.0       0.0       0.0       0.0       0.0       0.0   \n",
       "\n",
       "            month_39  \n",
       "product_id            \n",
       "0A4G5LZWCP     322.0  \n",
       "0AB7PTAD3X      36.0  \n",
       "0HLIWH0CA1     197.0  \n",
       "0UZVWTQ50H       0.0  \n",
       "0W3289OYXV       0.0  \n",
       "\n",
       "[5 rows x 39 columns]"
      ]
     },
     "execution_count": 324,
     "metadata": {},
     "output_type": "execute_result"
    }
   ],
   "source": [
    "monthly_trans = create_monthly_sale_df()\n",
    "monthly_trans.head()"
   ]
  },
  {
   "cell_type": "code",
   "execution_count": 325,
   "metadata": {},
   "outputs": [
    {
     "data": {
      "text/plain": [
       "[<matplotlib.lines.Line2D at 0x1f165a47898>]"
      ]
     },
     "execution_count": 325,
     "metadata": {},
     "output_type": "execute_result"
    },
    {
     "data": {
      "image/png": "[encoded data removed]",
      "text/plain": [
       "<Figure size 432x288 with 1 Axes>"
      ]
     },
     "metadata": {
      "needs_background": "light"
     },
     "output_type": "display_data"
    }
   ],
   "source": [
    "plt.plot(monthly_trans.iloc[0])"
   ]
  },
  {
   "cell_type": "code",
   "execution_count": null,
   "metadata": {},
   "outputs": [],
   "source": []
  },
  {
   "cell_type": "markdown",
   "metadata": {},
   "source": [
    "### 5- What other interesting questions can be asked about this? For example, do you see a seasonality effect?"
   ]
  },
  {
   "cell_type": "code",
   "execution_count": 123,
   "metadata": {},
   "outputs": [
    {
     "data": {
      "text/html": [
       "<div>\n",
       "<style scoped>\n",
       "    .dataframe tbody tr th:only-of-type {\n",
       "        vertical-align: middle;\n",
       "    }\n",
       "\n",
       "    .dataframe tbody tr th {\n",
       "        vertical-align: top;\n",
       "    }\n",
       "\n",
       "    .dataframe thead th {\n",
       "        text-align: right;\n",
       "    }\n",
       "</style>\n",
       "<table border=\"1\" class=\"dataframe\">\n",
       "  <thead>\n",
       "    <tr style=\"text-align: right;\">\n",
       "      <th></th>\n",
       "      <th>customer_id</th>\n",
       "      <th>product_id</th>\n",
       "      <th>date</th>\n",
       "      <th>year</th>\n",
       "      <th>month</th>\n",
       "      <th>season</th>\n",
       "    </tr>\n",
       "  </thead>\n",
       "  <tbody>\n",
       "    <tr>\n",
       "      <th>0</th>\n",
       "      <td>6689489</td>\n",
       "      <td>0A4G5LZWCP</td>\n",
       "      <td>2017-01-31T09:31:08.873Z</td>\n",
       "      <td>2017</td>\n",
       "      <td>1</td>\n",
       "      <td>1</td>\n",
       "    </tr>\n",
       "    <tr>\n",
       "      <th>1</th>\n",
       "      <td>6689489</td>\n",
       "      <td>XZ6UVEYK40</td>\n",
       "      <td>2017-02-03T16:59:16.610Z</td>\n",
       "      <td>2017</td>\n",
       "      <td>2</td>\n",
       "      <td>1</td>\n",
       "    </tr>\n",
       "    <tr>\n",
       "      <th>2</th>\n",
       "      <td>6689489</td>\n",
       "      <td>XZ6UVEYK40</td>\n",
       "      <td>2017-02-05T19:47:55.353Z</td>\n",
       "      <td>2017</td>\n",
       "      <td>2</td>\n",
       "      <td>1</td>\n",
       "    </tr>\n",
       "    <tr>\n",
       "      <th>3</th>\n",
       "      <td>6689489</td>\n",
       "      <td>XZ6UVEYK40</td>\n",
       "      <td>2017-02-05T19:48:14.633Z</td>\n",
       "      <td>2017</td>\n",
       "      <td>2</td>\n",
       "      <td>1</td>\n",
       "    </tr>\n",
       "    <tr>\n",
       "      <th>4</th>\n",
       "      <td>6689489</td>\n",
       "      <td>XZ6UVEYK40</td>\n",
       "      <td>2017-02-06T09:59:49.053Z</td>\n",
       "      <td>2017</td>\n",
       "      <td>2</td>\n",
       "      <td>1</td>\n",
       "    </tr>\n",
       "    <tr>\n",
       "      <th>...</th>\n",
       "      <td>...</td>\n",
       "      <td>...</td>\n",
       "      <td>...</td>\n",
       "      <td>...</td>\n",
       "      <td>...</td>\n",
       "      <td>...</td>\n",
       "    </tr>\n",
       "    <tr>\n",
       "      <th>975950</th>\n",
       "      <td>9770266</td>\n",
       "      <td>5RPSDK28JR</td>\n",
       "      <td>2019-05-17T10:06:43.037Z</td>\n",
       "      <td>2019</td>\n",
       "      <td>5</td>\n",
       "      <td>2</td>\n",
       "    </tr>\n",
       "    <tr>\n",
       "      <th>975951</th>\n",
       "      <td>2552305</td>\n",
       "      <td>5RPSDK28JR</td>\n",
       "      <td>2017-10-27T17:49:54.483Z</td>\n",
       "      <td>2017</td>\n",
       "      <td>10</td>\n",
       "      <td>4</td>\n",
       "    </tr>\n",
       "    <tr>\n",
       "      <th>975952</th>\n",
       "      <td>6004163</td>\n",
       "      <td>I2IYFZIO6X</td>\n",
       "      <td>2019-01-09T16:31:08.133Z</td>\n",
       "      <td>2019</td>\n",
       "      <td>1</td>\n",
       "      <td>1</td>\n",
       "    </tr>\n",
       "    <tr>\n",
       "      <th>975953</th>\n",
       "      <td>6632569</td>\n",
       "      <td>0A4G5LZWCP</td>\n",
       "      <td>2017-03-29T16:25:05.907Z</td>\n",
       "      <td>2017</td>\n",
       "      <td>3</td>\n",
       "      <td>1</td>\n",
       "    </tr>\n",
       "    <tr>\n",
       "      <th>975954</th>\n",
       "      <td>9277279</td>\n",
       "      <td>5RPSDK28JR</td>\n",
       "      <td>2020-03-16T22:39:59.247Z</td>\n",
       "      <td>2020</td>\n",
       "      <td>3</td>\n",
       "      <td>1</td>\n",
       "    </tr>\n",
       "  </tbody>\n",
       "</table>\n",
       "<p>975955 rows × 6 columns</p>\n",
       "</div>"
      ],
      "text/plain": [
       "        customer_id  product_id                      date  year  month  season\n",
       "0           6689489  0A4G5LZWCP  2017-01-31T09:31:08.873Z  2017      1       1\n",
       "1           6689489  XZ6UVEYK40  2017-02-03T16:59:16.610Z  2017      2       1\n",
       "2           6689489  XZ6UVEYK40  2017-02-05T19:47:55.353Z  2017      2       1\n",
       "3           6689489  XZ6UVEYK40  2017-02-05T19:48:14.633Z  2017      2       1\n",
       "4           6689489  XZ6UVEYK40  2017-02-06T09:59:49.053Z  2017      2       1\n",
       "...             ...         ...                       ...   ...    ...     ...\n",
       "975950      9770266  5RPSDK28JR  2019-05-17T10:06:43.037Z  2019      5       2\n",
       "975951      2552305  5RPSDK28JR  2017-10-27T17:49:54.483Z  2017     10       4\n",
       "975952      6004163  I2IYFZIO6X  2019-01-09T16:31:08.133Z  2019      1       1\n",
       "975953      6632569  0A4G5LZWCP  2017-03-29T16:25:05.907Z  2017      3       1\n",
       "975954      9277279  5RPSDK28JR  2020-03-16T22:39:59.247Z  2020      3       1\n",
       "\n",
       "[975955 rows x 6 columns]"
      ]
     },
     "execution_count": 123,
     "metadata": {},
     "output_type": "execute_result"
    }
   ],
   "source": [
    "transactions['season'] = (transactions['month']-1)//3 + 1\n",
    "transactions"
   ]
  },
  {
   "cell_type": "code",
   "execution_count": 124,
   "metadata": {},
   "outputs": [
    {
     "data": {
      "text/plain": [
       "[<matplotlib.lines.Line2D at 0x1f1022ddcc0>]"
      ]
     },
     "execution_count": 124,
     "metadata": {},
     "output_type": "execute_result"
    },
    {
     "data": {
      "image/png": "[encoded data removed]",
      "text/plain": [
       "<Figure size 432x288 with 1 Axes>"
      ]
     },
     "metadata": {
      "needs_background": "light"
     },
     "output_type": "display_data"
    }
   ],
   "source": [
    "# seasonal transactions\n",
    "plt.plot(transactions.groupby(['season']).size())"
   ]
  },
  {
   "cell_type": "code",
   "execution_count": 125,
   "metadata": {},
   "outputs": [
    {
     "data": {
      "text/plain": [
       "[<matplotlib.lines.Line2D at 0x1f102206278>]"
      ]
     },
     "execution_count": 125,
     "metadata": {},
     "output_type": "execute_result"
    },
    {
     "data": {
      "image/png": "[encoded data removed]",
      "text/plain": [
       "<Figure size 432x288 with 1 Axes>"
      ]
     },
     "metadata": {
      "needs_background": "light"
     },
     "output_type": "display_data"
    }
   ],
   "source": [
    "# monthly transactions\n",
    "plt.plot(transactions.groupby(['month']).size())"
   ]
  },
  {
   "cell_type": "code",
   "execution_count": 18,
   "metadata": {},
   "outputs": [
    {
     "data": {
      "text/plain": [
       "<function matplotlib.pyplot.show(close=None, block=None)>"
      ]
     },
     "execution_count": 18,
     "metadata": {},
     "output_type": "execute_result"
    },
    {
     "data": {
      "image/png": "[encoded data removed]",
      "text/plain": [
       "<Figure size 432x288 with 1 Axes>"
      ]
     },
     "metadata": {
      "needs_background": "light"
     },
     "output_type": "display_data"
    }
   ],
   "source": [
    "# monthly for each year\n",
    "plt.plot(transactions[transactions['year'] == 2017].groupby(['month']).size(), color='r')\n",
    "plt.plot(transactions[transactions['year'] == 2018].groupby(['month']).size(), color='b')\n",
    "plt.plot(transactions[transactions['year'] == 2019].groupby(['month']).size(), color='g')\n",
    "# plt.legend()\n",
    "plt.show"
   ]
  },
  {
   "cell_type": "code",
   "execution_count": null,
   "metadata": {},
   "outputs": [],
   "source": [
    "# monthly overal\n",
    "plt.plot()"
   ]
  }
 ],
 "metadata": {
  "kernelspec": {
   "display_name": "Python 3",
   "language": "python",
   "name": "python3"
  },
  "language_info": {
   "codemirror_mode": {
    "name": "ipython",
    "version": 3
   },
   "file_extension": ".py",
   "mimetype": "text/x-python",
   "name": "python",
   "nbconvert_exporter": "python",
   "pygments_lexer": "ipython3",
   "version": "3.6.3"
  }
 },
 "nbformat": 4,
 "nbformat_minor": 4
}
