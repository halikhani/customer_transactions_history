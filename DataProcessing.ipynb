{
 "cells": [
  {
   "cell_type": "code",
   "execution_count": 95,
   "metadata": {},
   "outputs": [],
   "source": [
    "import numpy as np\n",
    "import pandas as pd\n",
    "import sklearn\n",
    "import matplotlib.pyplot as plt"
   ]
  },
  {
   "cell_type": "code",
   "execution_count": 96,
   "metadata": {},
   "outputs": [],
   "source": [
    "transactions1 = pd.read_csv(\"transactions_1.csv\", index_col='Unnamed: 0')\n",
    "transactions2 = pd.read_csv(\"transactions_2.csv\", index_col='Unnamed: 0')\n",
    "transactions = pd.concat([transactions1, transactions2])"
   ]
  },
  {
   "cell_type": "code",
   "execution_count": 97,
   "metadata": {},
   "outputs": [
    {
     "data": {
      "text/html": [
       "<div>\n",
       "<style scoped>\n",
       "    .dataframe tbody tr th:only-of-type {\n",
       "        vertical-align: middle;\n",
       "    }\n",
       "\n",
       "    .dataframe tbody tr th {\n",
       "        vertical-align: top;\n",
       "    }\n",
       "\n",
       "    .dataframe thead th {\n",
       "        text-align: right;\n",
       "    }\n",
       "</style>\n",
       "<table border=\"1\" class=\"dataframe\">\n",
       "  <thead>\n",
       "    <tr style=\"text-align: right;\">\n",
       "      <th></th>\n",
       "      <th>customer_id</th>\n",
       "      <th>product_id</th>\n",
       "      <th>date</th>\n",
       "    </tr>\n",
       "  </thead>\n",
       "  <tbody>\n",
       "    <tr>\n",
       "      <th>0</th>\n",
       "      <td>6689489</td>\n",
       "      <td>0A4G5LZWCP</td>\n",
       "      <td>2017-01-31T09:31:08.873Z</td>\n",
       "    </tr>\n",
       "    <tr>\n",
       "      <th>1</th>\n",
       "      <td>6689489</td>\n",
       "      <td>XZ6UVEYK40</td>\n",
       "      <td>2017-02-03T16:59:16.610Z</td>\n",
       "    </tr>\n",
       "    <tr>\n",
       "      <th>2</th>\n",
       "      <td>6689489</td>\n",
       "      <td>XZ6UVEYK40</td>\n",
       "      <td>2017-02-05T19:47:55.353Z</td>\n",
       "    </tr>\n",
       "    <tr>\n",
       "      <th>3</th>\n",
       "      <td>6689489</td>\n",
       "      <td>XZ6UVEYK40</td>\n",
       "      <td>2017-02-05T19:48:14.633Z</td>\n",
       "    </tr>\n",
       "    <tr>\n",
       "      <th>4</th>\n",
       "      <td>6689489</td>\n",
       "      <td>XZ6UVEYK40</td>\n",
       "      <td>2017-02-06T09:59:49.053Z</td>\n",
       "    </tr>\n",
       "    <tr>\n",
       "      <th>...</th>\n",
       "      <td>...</td>\n",
       "      <td>...</td>\n",
       "      <td>...</td>\n",
       "    </tr>\n",
       "    <tr>\n",
       "      <th>975950</th>\n",
       "      <td>9770266</td>\n",
       "      <td>5RPSDK28JR</td>\n",
       "      <td>2019-05-17T10:06:43.037Z</td>\n",
       "    </tr>\n",
       "    <tr>\n",
       "      <th>975951</th>\n",
       "      <td>2552305</td>\n",
       "      <td>5RPSDK28JR</td>\n",
       "      <td>2017-10-27T17:49:54.483Z</td>\n",
       "    </tr>\n",
       "    <tr>\n",
       "      <th>975952</th>\n",
       "      <td>6004163</td>\n",
       "      <td>I2IYFZIO6X</td>\n",
       "      <td>2019-01-09T16:31:08.133Z</td>\n",
       "    </tr>\n",
       "    <tr>\n",
       "      <th>975953</th>\n",
       "      <td>6632569</td>\n",
       "      <td>0A4G5LZWCP</td>\n",
       "      <td>2017-03-29T16:25:05.907Z</td>\n",
       "    </tr>\n",
       "    <tr>\n",
       "      <th>975954</th>\n",
       "      <td>9277279</td>\n",
       "      <td>5RPSDK28JR</td>\n",
       "      <td>2020-03-16T22:39:59.247Z</td>\n",
       "    </tr>\n",
       "  </tbody>\n",
       "</table>\n",
       "<p>975955 rows × 3 columns</p>\n",
       "</div>"
      ],
      "text/plain": [
       "        customer_id  product_id                      date\n",
       "0           6689489  0A4G5LZWCP  2017-01-31T09:31:08.873Z\n",
       "1           6689489  XZ6UVEYK40  2017-02-03T16:59:16.610Z\n",
       "2           6689489  XZ6UVEYK40  2017-02-05T19:47:55.353Z\n",
       "3           6689489  XZ6UVEYK40  2017-02-05T19:48:14.633Z\n",
       "4           6689489  XZ6UVEYK40  2017-02-06T09:59:49.053Z\n",
       "...             ...         ...                       ...\n",
       "975950      9770266  5RPSDK28JR  2019-05-17T10:06:43.037Z\n",
       "975951      2552305  5RPSDK28JR  2017-10-27T17:49:54.483Z\n",
       "975952      6004163  I2IYFZIO6X  2019-01-09T16:31:08.133Z\n",
       "975953      6632569  0A4G5LZWCP  2017-03-29T16:25:05.907Z\n",
       "975954      9277279  5RPSDK28JR  2020-03-16T22:39:59.247Z\n",
       "\n",
       "[975955 rows x 3 columns]"
      ]
     },
     "execution_count": 97,
     "metadata": {},
     "output_type": "execute_result"
    }
   ],
   "source": [
    "transactions"
   ]
  },
  {
   "cell_type": "code",
   "execution_count": 98,
   "metadata": {},
   "outputs": [
    {
     "data": {
      "text/html": [
       "<div>\n",
       "<style scoped>\n",
       "    .dataframe tbody tr th:only-of-type {\n",
       "        vertical-align: middle;\n",
       "    }\n",
       "\n",
       "    .dataframe tbody tr th {\n",
       "        vertical-align: top;\n",
       "    }\n",
       "\n",
       "    .dataframe thead th {\n",
       "        text-align: right;\n",
       "    }\n",
       "</style>\n",
       "<table border=\"1\" class=\"dataframe\">\n",
       "  <thead>\n",
       "    <tr style=\"text-align: right;\">\n",
       "      <th></th>\n",
       "      <th>customer_id</th>\n",
       "      <th>product_id</th>\n",
       "      <th>date</th>\n",
       "      <th>year</th>\n",
       "      <th>month</th>\n",
       "      <th>day</th>\n",
       "    </tr>\n",
       "  </thead>\n",
       "  <tbody>\n",
       "    <tr>\n",
       "      <th>0</th>\n",
       "      <td>6689489</td>\n",
       "      <td>0A4G5LZWCP</td>\n",
       "      <td>2017-01-31T09:31:08.873Z</td>\n",
       "      <td>2017</td>\n",
       "      <td>1</td>\n",
       "      <td>31</td>\n",
       "    </tr>\n",
       "    <tr>\n",
       "      <th>1</th>\n",
       "      <td>6689489</td>\n",
       "      <td>XZ6UVEYK40</td>\n",
       "      <td>2017-02-03T16:59:16.610Z</td>\n",
       "      <td>2017</td>\n",
       "      <td>2</td>\n",
       "      <td>3</td>\n",
       "    </tr>\n",
       "    <tr>\n",
       "      <th>2</th>\n",
       "      <td>6689489</td>\n",
       "      <td>XZ6UVEYK40</td>\n",
       "      <td>2017-02-05T19:47:55.353Z</td>\n",
       "      <td>2017</td>\n",
       "      <td>2</td>\n",
       "      <td>5</td>\n",
       "    </tr>\n",
       "    <tr>\n",
       "      <th>3</th>\n",
       "      <td>6689489</td>\n",
       "      <td>XZ6UVEYK40</td>\n",
       "      <td>2017-02-05T19:48:14.633Z</td>\n",
       "      <td>2017</td>\n",
       "      <td>2</td>\n",
       "      <td>5</td>\n",
       "    </tr>\n",
       "    <tr>\n",
       "      <th>4</th>\n",
       "      <td>6689489</td>\n",
       "      <td>XZ6UVEYK40</td>\n",
       "      <td>2017-02-06T09:59:49.053Z</td>\n",
       "      <td>2017</td>\n",
       "      <td>2</td>\n",
       "      <td>6</td>\n",
       "    </tr>\n",
       "    <tr>\n",
       "      <th>...</th>\n",
       "      <td>...</td>\n",
       "      <td>...</td>\n",
       "      <td>...</td>\n",
       "      <td>...</td>\n",
       "      <td>...</td>\n",
       "      <td>...</td>\n",
       "    </tr>\n",
       "    <tr>\n",
       "      <th>975950</th>\n",
       "      <td>9770266</td>\n",
       "      <td>5RPSDK28JR</td>\n",
       "      <td>2019-05-17T10:06:43.037Z</td>\n",
       "      <td>2019</td>\n",
       "      <td>5</td>\n",
       "      <td>17</td>\n",
       "    </tr>\n",
       "    <tr>\n",
       "      <th>975951</th>\n",
       "      <td>2552305</td>\n",
       "      <td>5RPSDK28JR</td>\n",
       "      <td>2017-10-27T17:49:54.483Z</td>\n",
       "      <td>2017</td>\n",
       "      <td>10</td>\n",
       "      <td>27</td>\n",
       "    </tr>\n",
       "    <tr>\n",
       "      <th>975952</th>\n",
       "      <td>6004163</td>\n",
       "      <td>I2IYFZIO6X</td>\n",
       "      <td>2019-01-09T16:31:08.133Z</td>\n",
       "      <td>2019</td>\n",
       "      <td>1</td>\n",
       "      <td>9</td>\n",
       "    </tr>\n",
       "    <tr>\n",
       "      <th>975953</th>\n",
       "      <td>6632569</td>\n",
       "      <td>0A4G5LZWCP</td>\n",
       "      <td>2017-03-29T16:25:05.907Z</td>\n",
       "      <td>2017</td>\n",
       "      <td>3</td>\n",
       "      <td>29</td>\n",
       "    </tr>\n",
       "    <tr>\n",
       "      <th>975954</th>\n",
       "      <td>9277279</td>\n",
       "      <td>5RPSDK28JR</td>\n",
       "      <td>2020-03-16T22:39:59.247Z</td>\n",
       "      <td>2020</td>\n",
       "      <td>3</td>\n",
       "      <td>16</td>\n",
       "    </tr>\n",
       "  </tbody>\n",
       "</table>\n",
       "<p>975955 rows × 6 columns</p>\n",
       "</div>"
      ],
      "text/plain": [
       "        customer_id  product_id                      date  year  month  day\n",
       "0           6689489  0A4G5LZWCP  2017-01-31T09:31:08.873Z  2017      1   31\n",
       "1           6689489  XZ6UVEYK40  2017-02-03T16:59:16.610Z  2017      2    3\n",
       "2           6689489  XZ6UVEYK40  2017-02-05T19:47:55.353Z  2017      2    5\n",
       "3           6689489  XZ6UVEYK40  2017-02-05T19:48:14.633Z  2017      2    5\n",
       "4           6689489  XZ6UVEYK40  2017-02-06T09:59:49.053Z  2017      2    6\n",
       "...             ...         ...                       ...   ...    ...  ...\n",
       "975950      9770266  5RPSDK28JR  2019-05-17T10:06:43.037Z  2019      5   17\n",
       "975951      2552305  5RPSDK28JR  2017-10-27T17:49:54.483Z  2017     10   27\n",
       "975952      6004163  I2IYFZIO6X  2019-01-09T16:31:08.133Z  2019      1    9\n",
       "975953      6632569  0A4G5LZWCP  2017-03-29T16:25:05.907Z  2017      3   29\n",
       "975954      9277279  5RPSDK28JR  2020-03-16T22:39:59.247Z  2020      3   16\n",
       "\n",
       "[975955 rows x 6 columns]"
      ]
     },
     "execution_count": 98,
     "metadata": {},
     "output_type": "execute_result"
    }
   ],
   "source": [
    "transactions['year'] = pd.DatetimeIndex(transactions['date']).year\n",
    "transactions['month'] = pd.DatetimeIndex(transactions['date']).month\n",
    "transactions['day'] = pd.DatetimeIndex(transactions['date']).day\n",
    "# transactions['hour'] = pd.DatetimeIndex(transactions['date']).hour\n",
    "transactions"
   ]
  },
  {
   "cell_type": "markdown",
   "metadata": {},
   "source": [
    "## Basic Questions\n",
    "### 1- Create an ordered (descending) plot for the total number of transactions per customer from the most to the least active customer."
   ]
  },
  {
   "cell_type": "code",
   "execution_count": 99,
   "metadata": {},
   "outputs": [
    {
     "data": {
      "text/plain": [
       "[<matplotlib.lines.Line2D at 0x1c7a44b59b0>]"
      ]
     },
     "execution_count": 99,
     "metadata": {},
     "output_type": "execute_result"
    },
    {
     "data": {
      "image/png": "[encoded data removed]",
      "text/plain": [
       "<Figure size 432x288 with 1 Axes>"
      ]
     },
     "metadata": {
      "needs_background": "light"
     },
     "output_type": "display_data"
    }
   ],
   "source": [
    "transaction_per_customer = transactions.groupby('customer_id').size()\n",
    "sorted_trans_per_customer = transaction_per_customer.sort_values(ascending=False)\n",
    "sorted_trans_per_customer = sorted_trans_per_customer.reset_index(drop=True)\n",
    "sorted_trans_per_customer\n",
    "plt.plot(sorted_trans_per_customer)"
   ]
  },
  {
   "cell_type": "markdown",
   "metadata": {},
   "source": [
    "### 2- Given any product ID, create a plot to show its transaction frequency per month for the year 2018."
   ]
  },
  {
   "cell_type": "code",
   "execution_count": 106,
   "metadata": {},
   "outputs": [],
   "source": [
    "\n",
    "tmp_transactions = transactions.copy()\n",
    "tmp_transactions = tmp_transactions[tmp_transactions['year'] == 2018]\n",
    "c = tmp_transactions.groupby(['product_id', 'month']).size()\n",
    "# tmp_transactions"
   ]
  },
  {
   "cell_type": "code",
   "execution_count": 115,
   "metadata": {},
   "outputs": [
    {
     "data": {
      "text/plain": [
       "month\n",
       "1     190\n",
       "2     183\n",
       "3     222\n",
       "4     221\n",
       "5     614\n",
       "6     581\n",
       "7     385\n",
       "8     177\n",
       "9     208\n",
       "10    814\n",
       "11    539\n",
       "12    541\n",
       "dtype: int64"
      ]
     },
     "execution_count": 115,
     "metadata": {},
     "output_type": "execute_result"
    }
   ],
   "source": [
    "c['ZWL2RHU5YP']"
   ]
  },
  {
   "cell_type": "code",
   "execution_count": 118,
   "metadata": {},
   "outputs": [],
   "source": [
    "def plot_trans_perMonth(productID, year):\n",
    "    year_filtered_df = transactions[transactions['year'] == year]\n",
    "    monthly_bill = year_filtered_df.groupby(['product_id', 'month']).size()\n",
    "    plt.plot(monthly_bill[productID])"
   ]
  },
  {
   "cell_type": "code",
   "execution_count": 120,
   "metadata": {},
   "outputs": [
    {
     "data": {
      "image/png": "[encoded data removed]",
      "text/plain": [
       "<Figure size 432x288 with 1 Axes>"
      ]
     },
     "metadata": {
      "needs_background": "light"
     },
     "output_type": "display_data"
    }
   ],
   "source": [
    "plot_trans_perMonth('ZWL2RHU5YP', 2019)"
   ]
  },
  {
   "cell_type": "markdown",
   "metadata": {},
   "source": [
    "### 3- At any time, what are the top 5 products that drove the highest sales over the last six months?"
   ]
  },
  {
   "cell_type": "code",
   "execution_count": 163,
   "metadata": {},
   "outputs": [],
   "source": [
    "def get_last_N_month_highest_sale(N, current_year, current_month):\n",
    "    min_month = (current_month - N)%12 + 1 if current_month - N < 0 else current_month - N + 1\n",
    "    min_year = year - ((-(current_month - N)//12)+1)\n",
    "    \n",
    "    filtered_transactions = transactions[(transactions['year']<= current_year)&(transactions['year']>= min_year)\n",
    "                                        &(transactions['month']<= current_month)&(transactions['year']>= min_month)]\n",
    "    return filtered_transactions.groupby('product_id').size().sort_values(ascending=False).head(5)"
   ]
  },
  {
   "cell_type": "code",
   "execution_count": 164,
   "metadata": {},
   "outputs": [
    {
     "data": {
      "text/plain": [
       "product_id\n",
       "5RPSDK28JR    10030\n",
       "XZ6UVEYK40     4023\n",
       "0A4G5LZWCP     3631\n",
       "G5HEPH9A2T     3110\n",
       "VD51ZQPY9D     2851\n",
       "dtype: int64"
      ]
     },
     "execution_count": 164,
     "metadata": {},
     "output_type": "execute_result"
    }
   ],
   "source": [
    "get_last_N_month_highest_sale(6, 2019, 1)"
   ]
  },
  {
   "cell_type": "code",
   "execution_count": null,
   "metadata": {},
   "outputs": [],
   "source": []
  }
 ],
 "metadata": {
  "kernelspec": {
   "display_name": "Python 3",
   "language": "python",
   "name": "python3"
  },
  "language_info": {
   "codemirror_mode": {
    "name": "ipython",
    "version": 3
   },
   "file_extension": ".py",
   "mimetype": "text/x-python",
   "name": "python",
   "nbconvert_exporter": "python",
   "pygments_lexer": "ipython3",
   "version": "3.6.3"
  }
 },
 "nbformat": 4,
 "nbformat_minor": 4
}
