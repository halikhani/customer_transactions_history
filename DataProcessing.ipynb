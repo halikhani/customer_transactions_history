{
 "cells": [
  {
   "cell_type": "code",
   "execution_count": 97,
   "metadata": {},
   "outputs": [],
   "source": [
    "import numpy as np\n",
    "import pandas as pd\n",
    "import sklearn\n",
    "import matplotlib.pyplot as plt"
   ]
  },
  {
   "cell_type": "code",
   "execution_count": 98,
   "metadata": {},
   "outputs": [],
   "source": [
    "transactions1 = pd.read_csv(\"transactions_1.csv\", index_col='Unnamed: 0')\n",
    "transactions2 = pd.read_csv(\"transactions_2.csv\", index_col='Unnamed: 0')\n",
    "transactions = pd.concat([transactions1, transactions2])"
   ]
  },
  {
   "cell_type": "code",
   "execution_count": 99,
   "metadata": {},
   "outputs": [
    {
     "data": {
      "text/html": [
       "<div>\n",
       "<style scoped>\n",
       "    .dataframe tbody tr th:only-of-type {\n",
       "        vertical-align: middle;\n",
       "    }\n",
       "\n",
       "    .dataframe tbody tr th {\n",
       "        vertical-align: top;\n",
       "    }\n",
       "\n",
       "    .dataframe thead th {\n",
       "        text-align: right;\n",
       "    }\n",
       "</style>\n",
       "<table border=\"1\" class=\"dataframe\">\n",
       "  <thead>\n",
       "    <tr style=\"text-align: right;\">\n",
       "      <th></th>\n",
       "      <th>customer_id</th>\n",
       "      <th>product_id</th>\n",
       "      <th>date</th>\n",
       "    </tr>\n",
       "  </thead>\n",
       "  <tbody>\n",
       "    <tr>\n",
       "      <th>0</th>\n",
       "      <td>6689489</td>\n",
       "      <td>0A4G5LZWCP</td>\n",
       "      <td>2017-01-31T09:31:08.873Z</td>\n",
       "    </tr>\n",
       "    <tr>\n",
       "      <th>1</th>\n",
       "      <td>6689489</td>\n",
       "      <td>XZ6UVEYK40</td>\n",
       "      <td>2017-02-03T16:59:16.610Z</td>\n",
       "    </tr>\n",
       "    <tr>\n",
       "      <th>2</th>\n",
       "      <td>6689489</td>\n",
       "      <td>XZ6UVEYK40</td>\n",
       "      <td>2017-02-05T19:47:55.353Z</td>\n",
       "    </tr>\n",
       "    <tr>\n",
       "      <th>3</th>\n",
       "      <td>6689489</td>\n",
       "      <td>XZ6UVEYK40</td>\n",
       "      <td>2017-02-05T19:48:14.633Z</td>\n",
       "    </tr>\n",
       "    <tr>\n",
       "      <th>4</th>\n",
       "      <td>6689489</td>\n",
       "      <td>XZ6UVEYK40</td>\n",
       "      <td>2017-02-06T09:59:49.053Z</td>\n",
       "    </tr>\n",
       "    <tr>\n",
       "      <th>...</th>\n",
       "      <td>...</td>\n",
       "      <td>...</td>\n",
       "      <td>...</td>\n",
       "    </tr>\n",
       "    <tr>\n",
       "      <th>975950</th>\n",
       "      <td>9770266</td>\n",
       "      <td>5RPSDK28JR</td>\n",
       "      <td>2019-05-17T10:06:43.037Z</td>\n",
       "    </tr>\n",
       "    <tr>\n",
       "      <th>975951</th>\n",
       "      <td>2552305</td>\n",
       "      <td>5RPSDK28JR</td>\n",
       "      <td>2017-10-27T17:49:54.483Z</td>\n",
       "    </tr>\n",
       "    <tr>\n",
       "      <th>975952</th>\n",
       "      <td>6004163</td>\n",
       "      <td>I2IYFZIO6X</td>\n",
       "      <td>2019-01-09T16:31:08.133Z</td>\n",
       "    </tr>\n",
       "    <tr>\n",
       "      <th>975953</th>\n",
       "      <td>6632569</td>\n",
       "      <td>0A4G5LZWCP</td>\n",
       "      <td>2017-03-29T16:25:05.907Z</td>\n",
       "    </tr>\n",
       "    <tr>\n",
       "      <th>975954</th>\n",
       "      <td>9277279</td>\n",
       "      <td>5RPSDK28JR</td>\n",
       "      <td>2020-03-16T22:39:59.247Z</td>\n",
       "    </tr>\n",
       "  </tbody>\n",
       "</table>\n",
       "<p>975955 rows × 3 columns</p>\n",
       "</div>"
      ],
      "text/plain": [
       "        customer_id  product_id                      date\n",
       "0           6689489  0A4G5LZWCP  2017-01-31T09:31:08.873Z\n",
       "1           6689489  XZ6UVEYK40  2017-02-03T16:59:16.610Z\n",
       "2           6689489  XZ6UVEYK40  2017-02-05T19:47:55.353Z\n",
       "3           6689489  XZ6UVEYK40  2017-02-05T19:48:14.633Z\n",
       "4           6689489  XZ6UVEYK40  2017-02-06T09:59:49.053Z\n",
       "...             ...         ...                       ...\n",
       "975950      9770266  5RPSDK28JR  2019-05-17T10:06:43.037Z\n",
       "975951      2552305  5RPSDK28JR  2017-10-27T17:49:54.483Z\n",
       "975952      6004163  I2IYFZIO6X  2019-01-09T16:31:08.133Z\n",
       "975953      6632569  0A4G5LZWCP  2017-03-29T16:25:05.907Z\n",
       "975954      9277279  5RPSDK28JR  2020-03-16T22:39:59.247Z\n",
       "\n",
       "[975955 rows x 3 columns]"
      ]
     },
     "execution_count": 99,
     "metadata": {},
     "output_type": "execute_result"
    }
   ],
   "source": [
    "transactions"
   ]
  },
  {
   "cell_type": "code",
   "execution_count": 100,
   "metadata": {},
   "outputs": [
    {
     "data": {
      "text/html": [
       "<div>\n",
       "<style scoped>\n",
       "    .dataframe tbody tr th:only-of-type {\n",
       "        vertical-align: middle;\n",
       "    }\n",
       "\n",
       "    .dataframe tbody tr th {\n",
       "        vertical-align: top;\n",
       "    }\n",
       "\n",
       "    .dataframe thead th {\n",
       "        text-align: right;\n",
       "    }\n",
       "</style>\n",
       "<table border=\"1\" class=\"dataframe\">\n",
       "  <thead>\n",
       "    <tr style=\"text-align: right;\">\n",
       "      <th></th>\n",
       "      <th>customer_id</th>\n",
       "      <th>product_id</th>\n",
       "      <th>date</th>\n",
       "      <th>year</th>\n",
       "      <th>month</th>\n",
       "    </tr>\n",
       "  </thead>\n",
       "  <tbody>\n",
       "    <tr>\n",
       "      <th>0</th>\n",
       "      <td>6689489</td>\n",
       "      <td>0A4G5LZWCP</td>\n",
       "      <td>2017-01-31T09:31:08.873Z</td>\n",
       "      <td>2017</td>\n",
       "      <td>1</td>\n",
       "    </tr>\n",
       "    <tr>\n",
       "      <th>1</th>\n",
       "      <td>6689489</td>\n",
       "      <td>XZ6UVEYK40</td>\n",
       "      <td>2017-02-03T16:59:16.610Z</td>\n",
       "      <td>2017</td>\n",
       "      <td>2</td>\n",
       "    </tr>\n",
       "    <tr>\n",
       "      <th>2</th>\n",
       "      <td>6689489</td>\n",
       "      <td>XZ6UVEYK40</td>\n",
       "      <td>2017-02-05T19:47:55.353Z</td>\n",
       "      <td>2017</td>\n",
       "      <td>2</td>\n",
       "    </tr>\n",
       "    <tr>\n",
       "      <th>3</th>\n",
       "      <td>6689489</td>\n",
       "      <td>XZ6UVEYK40</td>\n",
       "      <td>2017-02-05T19:48:14.633Z</td>\n",
       "      <td>2017</td>\n",
       "      <td>2</td>\n",
       "    </tr>\n",
       "    <tr>\n",
       "      <th>4</th>\n",
       "      <td>6689489</td>\n",
       "      <td>XZ6UVEYK40</td>\n",
       "      <td>2017-02-06T09:59:49.053Z</td>\n",
       "      <td>2017</td>\n",
       "      <td>2</td>\n",
       "    </tr>\n",
       "    <tr>\n",
       "      <th>...</th>\n",
       "      <td>...</td>\n",
       "      <td>...</td>\n",
       "      <td>...</td>\n",
       "      <td>...</td>\n",
       "      <td>...</td>\n",
       "    </tr>\n",
       "    <tr>\n",
       "      <th>975950</th>\n",
       "      <td>9770266</td>\n",
       "      <td>5RPSDK28JR</td>\n",
       "      <td>2019-05-17T10:06:43.037Z</td>\n",
       "      <td>2019</td>\n",
       "      <td>5</td>\n",
       "    </tr>\n",
       "    <tr>\n",
       "      <th>975951</th>\n",
       "      <td>2552305</td>\n",
       "      <td>5RPSDK28JR</td>\n",
       "      <td>2017-10-27T17:49:54.483Z</td>\n",
       "      <td>2017</td>\n",
       "      <td>10</td>\n",
       "    </tr>\n",
       "    <tr>\n",
       "      <th>975952</th>\n",
       "      <td>6004163</td>\n",
       "      <td>I2IYFZIO6X</td>\n",
       "      <td>2019-01-09T16:31:08.133Z</td>\n",
       "      <td>2019</td>\n",
       "      <td>1</td>\n",
       "    </tr>\n",
       "    <tr>\n",
       "      <th>975953</th>\n",
       "      <td>6632569</td>\n",
       "      <td>0A4G5LZWCP</td>\n",
       "      <td>2017-03-29T16:25:05.907Z</td>\n",
       "      <td>2017</td>\n",
       "      <td>3</td>\n",
       "    </tr>\n",
       "    <tr>\n",
       "      <th>975954</th>\n",
       "      <td>9277279</td>\n",
       "      <td>5RPSDK28JR</td>\n",
       "      <td>2020-03-16T22:39:59.247Z</td>\n",
       "      <td>2020</td>\n",
       "      <td>3</td>\n",
       "    </tr>\n",
       "  </tbody>\n",
       "</table>\n",
       "<p>975955 rows × 5 columns</p>\n",
       "</div>"
      ],
      "text/plain": [
       "        customer_id  product_id                      date  year  month\n",
       "0           6689489  0A4G5LZWCP  2017-01-31T09:31:08.873Z  2017      1\n",
       "1           6689489  XZ6UVEYK40  2017-02-03T16:59:16.610Z  2017      2\n",
       "2           6689489  XZ6UVEYK40  2017-02-05T19:47:55.353Z  2017      2\n",
       "3           6689489  XZ6UVEYK40  2017-02-05T19:48:14.633Z  2017      2\n",
       "4           6689489  XZ6UVEYK40  2017-02-06T09:59:49.053Z  2017      2\n",
       "...             ...         ...                       ...   ...    ...\n",
       "975950      9770266  5RPSDK28JR  2019-05-17T10:06:43.037Z  2019      5\n",
       "975951      2552305  5RPSDK28JR  2017-10-27T17:49:54.483Z  2017     10\n",
       "975952      6004163  I2IYFZIO6X  2019-01-09T16:31:08.133Z  2019      1\n",
       "975953      6632569  0A4G5LZWCP  2017-03-29T16:25:05.907Z  2017      3\n",
       "975954      9277279  5RPSDK28JR  2020-03-16T22:39:59.247Z  2020      3\n",
       "\n",
       "[975955 rows x 5 columns]"
      ]
     },
     "execution_count": 100,
     "metadata": {},
     "output_type": "execute_result"
    }
   ],
   "source": [
    "transactions['year'] = pd.DatetimeIndex(transactions['date']).year\n",
    "transactions['month'] = pd.DatetimeIndex(transactions['date']).month\n",
    "transactions"
   ]
  },
  {
   "cell_type": "markdown",
   "metadata": {},
   "source": [
    "## Basic Questions\n",
    "### 1- Create an ordered (descending) plot for the total number of transactions per customer from the most to the least active customer."
   ]
  },
  {
   "cell_type": "code",
   "execution_count": 101,
   "metadata": {},
   "outputs": [
    {
     "data": {
      "text/plain": [
       "[<matplotlib.lines.Line2D at 0x1f10016f0f0>]"
      ]
     },
     "execution_count": 101,
     "metadata": {},
     "output_type": "execute_result"
    },
    {
     "data": {
      "image/png": "[encoded data removed]",
      "text/plain": [
       "<Figure size 432x288 with 1 Axes>"
      ]
     },
     "metadata": {
      "needs_background": "light"
     },
     "output_type": "display_data"
    }
   ],
   "source": [
    "transaction_per_customer = transactions.groupby('customer_id').size()\n",
    "sorted_trans_per_customer = transaction_per_customer.sort_values(ascending=False)\n",
    "x = sorted_trans_per_customer.reset_index(drop=True)\n",
    "plt.plot(x)"
   ]
  },
  {
   "cell_type": "markdown",
   "metadata": {},
   "source": [
    "### 2- Given any product ID, create a plot to show its transaction frequency per month for the year 2018."
   ]
  },
  {
   "cell_type": "code",
   "execution_count": 102,
   "metadata": {},
   "outputs": [],
   "source": [
    "def plot_trans_perMonth(productID, year):\n",
    "    year_filtered_df = transactions[transactions['year'] == year]\n",
    "    monthly_bill = year_filtered_df.groupby(['product_id', 'month']).size()\n",
    "    plt.plot(monthly_bill[productID])"
   ]
  },
  {
   "cell_type": "code",
   "execution_count": 103,
   "metadata": {},
   "outputs": [
    {
     "data": {
      "image/png": "[encoded data removed]",
      "text/plain": [
       "<Figure size 432x288 with 1 Axes>"
      ]
     },
     "metadata": {
      "needs_background": "light"
     },
     "output_type": "display_data"
    }
   ],
   "source": [
    "plot_trans_perMonth('ZWL2RHU5YP', 2018)"
   ]
  },
  {
   "cell_type": "markdown",
   "metadata": {},
   "source": [
    "### 3- At any time, what are the top 5 products that drove the highest sales over the last six months?"
   ]
  },
  {
   "cell_type": "code",
   "execution_count": 104,
   "metadata": {},
   "outputs": [],
   "source": [
    "def get_last_n_month_highest_sale(n, current_year, current_month):\n",
    "    tmp_transactions = transactions.copy()\n",
    "    \n",
    "    min_year = tmp_transactions['year'].min()\n",
    "    # create a column of 'number of passed months until now to ease the calculations of past n month transaction history'\n",
    "    tmp_transactions['acc_month'] = (tmp_transactions['year'] - min_year)*12 + tmp_transactions['month']\n",
    "    current_acc_month = (current_year - min_year)*12 + current_month\n",
    "    min_acc_month = (current_year - min_year)*12 + current_month - n + 1\n",
    "    \n",
    "    filtered = tmp_transactions[(tmp_transactions['acc_month'] >= min_acc_month)&(tmp_transactions['acc_month']<= current_acc_month)]\n",
    "    return filtered.groupby('product_id').size().sort_values(ascending=False).head(5)"
   ]
  },
  {
   "cell_type": "code",
   "execution_count": 113,
   "metadata": {},
   "outputs": [
    {
     "data": {
      "text/plain": [
       "product_id\n",
       "5RPSDK28JR    21745\n",
       "XZ6UVEYK40    10423\n",
       "VD51ZQPY9D    10204\n",
       "XD4I34ED7F     9585\n",
       "G5HEPH9A2T     9267\n",
       "dtype: int64"
      ]
     },
     "execution_count": 113,
     "metadata": {},
     "output_type": "execute_result"
    }
   ],
   "source": [
    "get_last_n_month_highest_sale(6, 2019, 8)"
   ]
  },
  {
   "cell_type": "markdown",
   "metadata": {},
   "source": [
    "### 4- Build a model to predict the total number of expected transactions over the next month for any customer. Split your data appropriately and give enough validation for the performance of your model by simulating the predicted results and comparing with the true values or however you see fit. Keep in mind that sometimes a carefully crafted plot is worth a thousand words."
   ]
  },
  {
   "cell_type": "markdown",
   "metadata": {},
   "source": [
    "#### First, let's plot some figures"
   ]
  },
  {
   "cell_type": "markdown",
   "metadata": {},
   "source": [
    "#### History of transactions of a random customer"
   ]
  },
  {
   "cell_type": "code",
   "execution_count": 114,
   "metadata": {},
   "outputs": [],
   "source": [
    "def plot_customer_history_transactions(customer_id):\n",
    "    tmp = transactions.copy()\n",
    "    tmp['total_months'] = (tmp['year']-2017)*12 + tmp['month']\n",
    "    t = tmp.groupby('total_months').size()\n",
    "    plt.plot(t)"
   ]
  },
  {
   "cell_type": "code",
   "execution_count": 115,
   "metadata": {},
   "outputs": [
    {
     "data": {
      "image/png": "[encoded data removed]",
      "text/plain": [
       "<Figure size 432x288 with 1 Axes>"
      ]
     },
     "metadata": {
      "needs_background": "light"
     },
     "output_type": "display_data"
    }
   ],
   "source": [
    "plot_customer_history_transactions(4435859)"
   ]
  },
  {
   "cell_type": "code",
   "execution_count": null,
   "metadata": {},
   "outputs": [],
   "source": []
  },
  {
   "cell_type": "markdown",
   "metadata": {},
   "source": [
    "### 5- What other interesting questions can be asked about this? For example, do you see a seasonality effect?"
   ]
  },
  {
   "cell_type": "code",
   "execution_count": 13,
   "metadata": {},
   "outputs": [
    {
     "data": {
      "text/html": [
       "<div>\n",
       "<style scoped>\n",
       "    .dataframe tbody tr th:only-of-type {\n",
       "        vertical-align: middle;\n",
       "    }\n",
       "\n",
       "    .dataframe tbody tr th {\n",
       "        vertical-align: top;\n",
       "    }\n",
       "\n",
       "    .dataframe thead th {\n",
       "        text-align: right;\n",
       "    }\n",
       "</style>\n",
       "<table border=\"1\" class=\"dataframe\">\n",
       "  <thead>\n",
       "    <tr style=\"text-align: right;\">\n",
       "      <th></th>\n",
       "      <th>customer_id</th>\n",
       "      <th>product_id</th>\n",
       "      <th>date</th>\n",
       "      <th>year</th>\n",
       "      <th>month</th>\n",
       "      <th>day</th>\n",
       "      <th>season</th>\n",
       "    </tr>\n",
       "  </thead>\n",
       "  <tbody>\n",
       "    <tr>\n",
       "      <th>0</th>\n",
       "      <td>6689489</td>\n",
       "      <td>0A4G5LZWCP</td>\n",
       "      <td>2017-01-31T09:31:08.873Z</td>\n",
       "      <td>2017</td>\n",
       "      <td>1</td>\n",
       "      <td>31</td>\n",
       "      <td>1</td>\n",
       "    </tr>\n",
       "    <tr>\n",
       "      <th>1</th>\n",
       "      <td>6689489</td>\n",
       "      <td>XZ6UVEYK40</td>\n",
       "      <td>2017-02-03T16:59:16.610Z</td>\n",
       "      <td>2017</td>\n",
       "      <td>2</td>\n",
       "      <td>3</td>\n",
       "      <td>1</td>\n",
       "    </tr>\n",
       "    <tr>\n",
       "      <th>2</th>\n",
       "      <td>6689489</td>\n",
       "      <td>XZ6UVEYK40</td>\n",
       "      <td>2017-02-05T19:47:55.353Z</td>\n",
       "      <td>2017</td>\n",
       "      <td>2</td>\n",
       "      <td>5</td>\n",
       "      <td>1</td>\n",
       "    </tr>\n",
       "    <tr>\n",
       "      <th>3</th>\n",
       "      <td>6689489</td>\n",
       "      <td>XZ6UVEYK40</td>\n",
       "      <td>2017-02-05T19:48:14.633Z</td>\n",
       "      <td>2017</td>\n",
       "      <td>2</td>\n",
       "      <td>5</td>\n",
       "      <td>1</td>\n",
       "    </tr>\n",
       "    <tr>\n",
       "      <th>4</th>\n",
       "      <td>6689489</td>\n",
       "      <td>XZ6UVEYK40</td>\n",
       "      <td>2017-02-06T09:59:49.053Z</td>\n",
       "      <td>2017</td>\n",
       "      <td>2</td>\n",
       "      <td>6</td>\n",
       "      <td>1</td>\n",
       "    </tr>\n",
       "    <tr>\n",
       "      <th>...</th>\n",
       "      <td>...</td>\n",
       "      <td>...</td>\n",
       "      <td>...</td>\n",
       "      <td>...</td>\n",
       "      <td>...</td>\n",
       "      <td>...</td>\n",
       "      <td>...</td>\n",
       "    </tr>\n",
       "    <tr>\n",
       "      <th>975950</th>\n",
       "      <td>9770266</td>\n",
       "      <td>5RPSDK28JR</td>\n",
       "      <td>2019-05-17T10:06:43.037Z</td>\n",
       "      <td>2019</td>\n",
       "      <td>5</td>\n",
       "      <td>17</td>\n",
       "      <td>2</td>\n",
       "    </tr>\n",
       "    <tr>\n",
       "      <th>975951</th>\n",
       "      <td>2552305</td>\n",
       "      <td>5RPSDK28JR</td>\n",
       "      <td>2017-10-27T17:49:54.483Z</td>\n",
       "      <td>2017</td>\n",
       "      <td>10</td>\n",
       "      <td>27</td>\n",
       "      <td>4</td>\n",
       "    </tr>\n",
       "    <tr>\n",
       "      <th>975952</th>\n",
       "      <td>6004163</td>\n",
       "      <td>I2IYFZIO6X</td>\n",
       "      <td>2019-01-09T16:31:08.133Z</td>\n",
       "      <td>2019</td>\n",
       "      <td>1</td>\n",
       "      <td>9</td>\n",
       "      <td>1</td>\n",
       "    </tr>\n",
       "    <tr>\n",
       "      <th>975953</th>\n",
       "      <td>6632569</td>\n",
       "      <td>0A4G5LZWCP</td>\n",
       "      <td>2017-03-29T16:25:05.907Z</td>\n",
       "      <td>2017</td>\n",
       "      <td>3</td>\n",
       "      <td>29</td>\n",
       "      <td>1</td>\n",
       "    </tr>\n",
       "    <tr>\n",
       "      <th>975954</th>\n",
       "      <td>9277279</td>\n",
       "      <td>5RPSDK28JR</td>\n",
       "      <td>2020-03-16T22:39:59.247Z</td>\n",
       "      <td>2020</td>\n",
       "      <td>3</td>\n",
       "      <td>16</td>\n",
       "      <td>1</td>\n",
       "    </tr>\n",
       "  </tbody>\n",
       "</table>\n",
       "<p>975955 rows × 7 columns</p>\n",
       "</div>"
      ],
      "text/plain": [
       "        customer_id  product_id                      date  year  month  day  \\\n",
       "0           6689489  0A4G5LZWCP  2017-01-31T09:31:08.873Z  2017      1   31   \n",
       "1           6689489  XZ6UVEYK40  2017-02-03T16:59:16.610Z  2017      2    3   \n",
       "2           6689489  XZ6UVEYK40  2017-02-05T19:47:55.353Z  2017      2    5   \n",
       "3           6689489  XZ6UVEYK40  2017-02-05T19:48:14.633Z  2017      2    5   \n",
       "4           6689489  XZ6UVEYK40  2017-02-06T09:59:49.053Z  2017      2    6   \n",
       "...             ...         ...                       ...   ...    ...  ...   \n",
       "975950      9770266  5RPSDK28JR  2019-05-17T10:06:43.037Z  2019      5   17   \n",
       "975951      2552305  5RPSDK28JR  2017-10-27T17:49:54.483Z  2017     10   27   \n",
       "975952      6004163  I2IYFZIO6X  2019-01-09T16:31:08.133Z  2019      1    9   \n",
       "975953      6632569  0A4G5LZWCP  2017-03-29T16:25:05.907Z  2017      3   29   \n",
       "975954      9277279  5RPSDK28JR  2020-03-16T22:39:59.247Z  2020      3   16   \n",
       "\n",
       "        season  \n",
       "0            1  \n",
       "1            1  \n",
       "2            1  \n",
       "3            1  \n",
       "4            1  \n",
       "...        ...  \n",
       "975950       2  \n",
       "975951       4  \n",
       "975952       1  \n",
       "975953       1  \n",
       "975954       1  \n",
       "\n",
       "[975955 rows x 7 columns]"
      ]
     },
     "execution_count": 13,
     "metadata": {},
     "output_type": "execute_result"
    }
   ],
   "source": [
    "transactions['season'] = (transactions['month']-1)//3 + 1\n",
    "transactions"
   ]
  },
  {
   "cell_type": "code",
   "execution_count": 14,
   "metadata": {},
   "outputs": [
    {
     "data": {
      "text/plain": [
       "[<matplotlib.lines.Line2D at 0x1f15ee12780>]"
      ]
     },
     "execution_count": 14,
     "metadata": {},
     "output_type": "execute_result"
    },
    {
     "data": {
      "image/png": "[encoded data removed]",
      "text/plain": [
       "<Figure size 432x288 with 1 Axes>"
      ]
     },
     "metadata": {
      "needs_background": "light"
     },
     "output_type": "display_data"
    }
   ],
   "source": [
    "# seasonal transactions\n",
    "plt.plot(transactions.groupby(['season']).size())"
   ]
  },
  {
   "cell_type": "code",
   "execution_count": 17,
   "metadata": {},
   "outputs": [
    {
     "data": {
      "text/plain": [
       "[<matplotlib.lines.Line2D at 0x1f1627bac18>]"
      ]
     },
     "execution_count": 17,
     "metadata": {},
     "output_type": "execute_result"
    },
    {
     "data": {
      "image/png": "[encoded data removed]",
      "text/plain": [
       "<Figure size 432x288 with 1 Axes>"
      ]
     },
     "metadata": {
      "needs_background": "light"
     },
     "output_type": "display_data"
    }
   ],
   "source": [
    "# monthly transactions\n",
    "plt.plot(transactions.groupby(['month']).size())"
   ]
  },
  {
   "cell_type": "code",
   "execution_count": 18,
   "metadata": {},
   "outputs": [
    {
     "data": {
      "text/plain": [
       "<function matplotlib.pyplot.show(close=None, block=None)>"
      ]
     },
     "execution_count": 18,
     "metadata": {},
     "output_type": "execute_result"
    },
    {
     "data": {
      "image/png": "[encoded data removed]",
      "text/plain": [
       "<Figure size 432x288 with 1 Axes>"
      ]
     },
     "metadata": {
      "needs_background": "light"
     },
     "output_type": "display_data"
    }
   ],
   "source": [
    "# monthly for each year\n",
    "plt.plot(transactions[transactions['year'] == 2017].groupby(['month']).size(), color='r')\n",
    "plt.plot(transactions[transactions['year'] == 2018].groupby(['month']).size(), color='b')\n",
    "plt.plot(transactions[transactions['year'] == 2019].groupby(['month']).size(), color='g')\n",
    "# plt.legend()\n",
    "plt.show"
   ]
  },
  {
   "cell_type": "code",
   "execution_count": null,
   "metadata": {},
   "outputs": [],
   "source": [
    "# monthly overal\n",
    "plt.plot()"
   ]
  }
 ],
 "metadata": {
  "kernelspec": {
   "display_name": "Python 3",
   "language": "python",
   "name": "python3"
  },
  "language_info": {
   "codemirror_mode": {
    "name": "ipython",
    "version": 3
   },
   "file_extension": ".py",
   "mimetype": "text/x-python",
   "name": "python",
   "nbconvert_exporter": "python",
   "pygments_lexer": "ipython3",
   "version": "3.6.3"
  }
 },
 "nbformat": 4,
 "nbformat_minor": 4
}
